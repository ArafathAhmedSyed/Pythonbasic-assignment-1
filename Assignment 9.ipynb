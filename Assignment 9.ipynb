{
 "cells": [
  {
   "cell_type": "raw",
   "id": "25287c67-5513-46a0-9723-efb4d869652c",
   "metadata": {},
   "source": [
    "Assignment 9"
   ]
  },
  {
   "cell_type": "markdown",
   "id": "cbd852d2-1c72-4fa6-9c51-08339458f397",
   "metadata": {},
   "source": [
    "1. What is a lambda function in Python, and how does it differ from a regular function?\n",
    "\n",
    "ANS: Lambda Function:\n",
    "\n",
    "A lambda function is an anonymous function (i.e., defined without a name) that can take any number of arguments but, unlike normal functions, evaluates and returns only one expression.\n",
    "Python Lambda Functions are anonymous function means that the function is without a name. As we already know that the def keyword is used to define a normal function in Python. Similarly, the lambda keyword is used to define an anonymous function in Python.\n",
    "Syntax:\n",
    "        lambda p1, p2: expression\n",
    "                    p1- parameter1 to pass in lambda function\n",
    "                    p2- parameter2 to pass in lambda function                      \n",
    "The anatomy of a lambda function includes three elements:\n",
    "        The keyword lambda — an analog of def in normal functions\n",
    "        The parameters — support passing positional and keyword arguments, just like normal functions\n",
    "        The body — the expression for given parameters being evaluated with the lambda function"
   ]
  },
  {
   "cell_type": "code",
   "execution_count": 4,
   "id": "19867060-a818-4c14-813b-fef5ca28283a",
   "metadata": {},
   "outputs": [
    {
     "name": "stdout",
     "output_type": "stream",
     "text": [
      "The multiplication using `Lambda Function` is : 35\n"
     ]
    }
   ],
   "source": [
    "# Exaplaination on Lambda function to Multiply argument a with argument b and return the result:\n",
    "\n",
    "multi = lambda a, b : a * b\n",
    "\n",
    "print(f\"The multiplication using `Lambda Function` is : {multi(5, 7)}\")"
   ]
  },
  {
   "cell_type": "markdown",
   "id": "fb5d291d-943a-457b-a509-377f568773fe",
   "metadata": {},
   "source": [
    "Regular Function-Vs-Lambda Function:\n",
    "\n",
    "Syntax: Lambda functions are written in a single line of code, whereas regular functions defined with def can span multiple lines.\n",
    "Function Name: Lambda functions do not have a name, whereas regular functions defined with def have a name.\n",
    "Return Statement: Lambda functions automatically return the result of the expression they evaluate, while regular functions defined with def require an explicit return statement to return a value.\n",
    "Arguments: Both types of functions can take any number of arguments, but lambda functions are typically used for simple, one-line expressions with one or two arguments.\n",
    "Functionality: Regular functions defined with def can include complex logic, including flow control statements (such as if and while), error handling, and more complex calculations. Lambda functions are typically used for simple operations, such as filtering, mapping, or reducing data.\n",
    "Example: The examples of Lambda & Regular function are as below:"
   ]
  },
  {
   "cell_type": "code",
   "execution_count": 5,
   "id": "88bf6436-f3aa-43a2-ac96-b54f3d587bb6",
   "metadata": {},
   "outputs": [
    {
     "name": "stdout",
     "output_type": "stream",
     "text": [
      "The result using 'Lambda' function is : 7\n",
      "\n",
      "The result using 'Regular' function is : 7\n"
     ]
    }
   ],
   "source": [
    "#  Explaination of Lambda function that adds two numbers \n",
    "add_lambda = lambda x, y: x + y \n",
    "\n",
    "# Explaination of Regular function that adds two numbers \n",
    "def add_def(x, y):     \n",
    "    return x + y \n",
    "\n",
    "# Calling the functions \n",
    "print(f\"The result using 'Lambda' function is : {add_lambda(4, 3)}\") \n",
    "print(f\"\\nThe result using 'Regular' function is : {add_def(4, 3)}\") "
   ]
  },
  {
   "cell_type": "markdown",
   "id": "2effba91-a888-42a5-b15f-5204b3a0a3a1",
   "metadata": {},
   "source": [
    "2. Can a lambda function in Python have multiple arguments? If yes, how can you define and use them?\n",
    "\n",
    "ANS: Python lambda function can be used with multiple arguments and these arguments are used in evaluating an expression to return a single value. A Python lambda function is used to execute an anonymous function, an anonymous meaning function without a name.\n",
    "Python lambda function can take any number of arguments, but can only have one expression and they can be used wherever function objects are required. Here is the syntax of the lambda.\n",
    "To pass multiple arguments in the lambda function, we must mention all the parameters separated by commas.\n",
    "Syntax:\n",
    "        lambda argument, [argument, argument]: expression\n",
    "We can use multiple arguements in lambda function in the following ways:\n",
    "        i) Python Lambda with Two Arguments,\n",
    "        ii) Using Multiple Iterables,\n",
    "        iii) Using String List as Multiple Arguments."
   ]
  },
  {
   "cell_type": "markdown",
   "id": "4df07445-09dc-4519-a4f1-46d0c80820cd",
   "metadata": {},
   "source": [
    "i) Python Lambda with Two Arguments:"
   ]
  },
  {
   "cell_type": "code",
   "execution_count": 3,
   "id": "4aed3684-1356-4115-8df0-8c89ef43344f",
   "metadata": {},
   "outputs": [
    {
     "name": "stdout",
     "output_type": "stream",
     "text": [
      "30\n"
     ]
    }
   ],
   "source": [
    "# Lambda example with two arguments\n",
    "add = lambda x, y : x + y\n",
    "print(add(20, 10))"
   ]
  },
  {
   "cell_type": "markdown",
   "id": "56ef6911-1773-4bc4-acea-ec488330a393",
   "metadata": {},
   "source": [
    "ii) Using Multiple Iterables:"
   ]
  },
  {
   "cell_type": "code",
   "execution_count": 7,
   "id": "216ab6f9-837e-433e-bf81-3ea9ad15c868",
   "metadata": {},
   "outputs": [
    {
     "name": "stdout",
     "output_type": "stream",
     "text": [
      "[3, 12, 7, 13, 11]\n"
     ]
    }
   ],
   "source": [
    "# Create two lists with numbers \n",
    "numbers1 = [2, 4, 5, 6, 7]\n",
    "numbers2 = [1, 8, 2, 7, 4]\n",
    "\n",
    "# Create lambda function that takes two arguments\n",
    "add_fun = lambda x, y: x+y\n",
    "\n",
    "# Use lambda with map() function\n",
    "add_result = list(map(add_fun, numbers1, numbers2))\n",
    "print(add_result)"
   ]
  },
  {
   "cell_type": "markdown",
   "id": "0df763ac-c765-49fa-ac1f-92079c7b1533",
   "metadata": {},
   "source": [
    "iii) Using String List as Multiple Arguments"
   ]
  },
  {
   "cell_type": "code",
   "execution_count": 8,
   "id": "5ff6c738-5efa-451e-8911-ee3330058f47",
   "metadata": {},
   "outputs": [
    {
     "name": "stdout",
     "output_type": "stream",
     "text": [
      "List-1: ['A', 'B', 'C', 'D']\n",
      "List-2: ['a', 'b', 'c', 'd']\n",
      "\n",
      "Result: ['Aa', 'Bb', 'Cc', 'Dd']\n"
     ]
    }
   ],
   "source": [
    "# Create string list\n",
    "list_1 = [\"A\",\"B\",\"C\",\"D\"]\n",
    "list_2 = [\"a\",\"b\",\"c\",\"d\"]\n",
    "print(\"List-1:\",list_1)\n",
    "print(\"List-2:\",list_2)\n",
    "\n",
    "# Use lower() function\n",
    "lower_result = list(map(lambda x,y: x + y, list_1, list_2))\n",
    "print(\"\\nResult:\",lower_result)"
   ]
  },
  {
   "cell_type": "markdown",
   "id": "73726e52-9606-4cc9-a06f-507372e7caad",
   "metadata": {},
   "source": [
    "3. How are lambda functions typically used in Python? Provide an example use case.\n",
    "\n",
    "ANS: Lambda functions are frequently used with higher-order functions, which take one or more functions as arguments or return one or more functions.\n",
    "A lambda function can be a higher-order function by taking a function (normal or lambda) as an argument.\n",
    "Python exposes higher-order functions as built-in functions or in the standard library which includes map(), filter(), functools.reduce(), as well as key functions like sort(), sorted(), min(), and max().\n",
    "The various use cases ofPython Lmbda function are listed below:\n",
    "        i) Sorting Lists with Custom Keys,\n",
    "        ii) Filtering Lists with the filter() Function,\n",
    "        iii) Applying Transformations with the map() Function,\n",
    "        iv) Using Lambda Functions with functools.reduce(),\n",
    "        v) Creating Small, One-Time-Use Functions,\n",
    "        vi) Implementing Simple Event Handlers,\n",
    "        vii) Using Lambda Functions in GUI Programming with Tkinter,\n",
    "        viii) Implementing Custom Comparison Functions for Data Structures,\n",
    "        ix) Using Lambda Functions in Concurrent Programming with ThreadPoolExecutor."
   ]
  },
  {
   "cell_type": "markdown",
   "id": "60c2ae18-1a97-4c83-8a08-d7c0f5744c1f",
   "metadata": {},
   "source": [
    "i) Sorting Lists with Custom Keys:\n",
    "\n",
    "Lambda functions can be used as a custom key function when sorting lists, allowing you to sort based on a specific attribute or calculation.\n",
    "Example:"
   ]
  },
  {
   "cell_type": "code",
   "execution_count": 9,
   "id": "ddb3f3fc-0dc9-4504-9487-e82ed12b664e",
   "metadata": {},
   "outputs": [
    {
     "name": "stdout",
     "output_type": "stream",
     "text": [
      "[('Anjali', 85), ('Arafath', 90), ('Ravi', 92)]\n"
     ]
    }
   ],
   "source": [
    "students = [('Arafath', 90), ('Anjali', 85), ('Ravi', 92)]\n",
    "sorted_students = sorted(students, key=lambda x: x[0])\n",
    "print(sorted_students)"
   ]
  },
  {
   "cell_type": "markdown",
   "id": "91b1d350-82e8-4c4e-b678-e5338ce0b5f1",
   "metadata": {},
   "source": [
    "ii) Filtering Lists with the filter() Function:\n",
    "\n",
    "The filter() function can be used in conjunction with a lambda function to filter a list based on a specific condition.\n",
    "Example:"
   ]
  },
  {
   "cell_type": "code",
   "execution_count": 10,
   "id": "19f53204-3841-4612-a409-9ecdf45801da",
   "metadata": {},
   "outputs": [
    {
     "name": "stdout",
     "output_type": "stream",
     "text": [
      "[2, 4, 6, 8]\n"
     ]
    }
   ],
   "source": [
    "numbers = [1, 2, 3, 4, 5, 6, 7, 8, 9]\n",
    "even_numbers = list(filter(lambda x: x % 2 == 0, numbers))\n",
    "print(even_numbers)"
   ]
  },
  {
   "cell_type": "markdown",
   "id": "b6918b1d-a559-42c5-9fd9-bde7322b5b4c",
   "metadata": {},
   "source": [
    "iii) Applying Transformations with the map() Function:\n",
    "\n",
    "The map() function can be used with a lambda function to apply a transformation to each element in a list.\n",
    "Example:"
   ]
  },
  {
   "cell_type": "code",
   "execution_count": 11,
   "id": "3085fffb-75c2-4387-bd8a-43126700f9f5",
   "metadata": {},
   "outputs": [
    {
     "name": "stdout",
     "output_type": "stream",
     "text": [
      "[1, 4, 9, 16, 25]\n"
     ]
    }
   ],
   "source": [
    "numbers = [1, 2, 3, 4, 5]\n",
    "squares = list(map(lambda x: x**2, numbers))\n",
    "print(squares)"
   ]
  },
  {
   "cell_type": "markdown",
   "id": "08a3f96c-7fde-441d-aaa0-9528d350ff65",
   "metadata": {},
   "source": [
    "iv) Using Lambda Functions with functools.reduce():\n",
    "\n",
    "The reduce() function from the functools module can be used with a lambda function to apply a binary operation cumulatively to the elements in a list, reducing the list to a single value.\n",
    "Example:"
   ]
  },
  {
   "cell_type": "code",
   "execution_count": 12,
   "id": "e9a33cab-7a56-4b24-a44e-293eeedc967d",
   "metadata": {},
   "outputs": [
    {
     "name": "stdout",
     "output_type": "stream",
     "text": [
      "120\n"
     ]
    }
   ],
   "source": [
    "from functools import reduce\n",
    " \n",
    "numbers = [1, 2, 3, 4, 5]\n",
    "product = reduce(lambda x, y: x * y, numbers)\n",
    "print(product)"
   ]
  },
  {
   "cell_type": "markdown",
   "id": "2a069783-db00-4585-a6c6-b6584e2a92c7",
   "metadata": {},
   "source": [
    "v) Creating Small, One-Time-Use Functions:\n",
    "\n",
    "Lambda functions are ideal for creating small, one-time-use functions that don’t need a proper function definition.\n",
    "Example:"
   ]
  },
  {
   "cell_type": "code",
   "execution_count": 13,
   "id": "fcd442eb-a5f2-45de-90fd-085a541a4d73",
   "metadata": {},
   "outputs": [
    {
     "name": "stdout",
     "output_type": "stream",
     "text": [
      "7\n"
     ]
    }
   ],
   "source": [
    "max_value = (lambda x, y: x if x > y else y)(5, 7)\n",
    "print(max_value)"
   ]
  },
  {
   "cell_type": "markdown",
   "id": "960f745d-c126-467c-a9d1-830e3936490c",
   "metadata": {},
   "source": [
    "4. What are the advantages and limitations of lambda functions compared to regular functions in Python?\n",
    "\n",
    "ANS: Advantages:\n",
    "\n",
    "1. Ease of creating the function.\n",
    "2. Variables with few options.\n",
    "\n",
    "Disadvantages:\n",
    "\n",
    "1. Despite Python’s popularity as the world’s most popular programming language, the Lambda is not user-friendly.\n",
    "2. The Lambda function will be a problem if we need to build a complex function.\n",
    "3. Strictly limited to a single expression.\n",
    "4. Although it cannot access a global variable, it can access the lone local variable.\n",
    "5. The simplicity of the Lambda function, which is a single statement, cannot be acceptable in all circumstances.\n",
    "6. For clarity, most Python functions and modules contain documentation, which is another drawback of the Lambda function."
   ]
  },
  {
   "cell_type": "markdown",
   "id": "7bffb2b5-d5ea-4f34-8dba-bd64b26346fa",
   "metadata": {},
   "source": [
    "5. Are lambda functions in Python able to access variables defined outside of their own scope? Explain with an example.\n",
    "\n",
    "ANS: Yes, lambda functions in Python can access variables defined outside of their own scope. This behavior is known as lexical scoping, where variables are resolved based on their location in the source code"
   ]
  },
  {
   "cell_type": "code",
   "execution_count": 14,
   "id": "45b685be-33d1-47cd-b51a-9e6e3e3ca0ee",
   "metadata": {},
   "outputs": [
    {
     "name": "stdout",
     "output_type": "stream",
     "text": [
      "7\n"
     ]
    }
   ],
   "source": [
    "def outer_function():\n",
    "    x = 5\n",
    "    lambda_func = lambda y: x + y\n",
    "    return lambda_func\n",
    "\n",
    "result = outer_function()\n",
    "print(result(2)) "
   ]
  },
  {
   "cell_type": "markdown",
   "id": "75693df8-fcd2-43f8-99eb-ce2a6603ff5e",
   "metadata": {},
   "source": [
    "6. Write a lambda function to calculate the square of a given number.\n",
    "\n",
    "ANS:"
   ]
  },
  {
   "cell_type": "code",
   "execution_count": 15,
   "id": "675d1b9c-2585-43e3-b136-7e9509b051af",
   "metadata": {},
   "outputs": [
    {
     "name": "stdin",
     "output_type": "stream",
     "text": [
      "Please Enter the  Number :  7\n"
     ]
    },
    {
     "name": "stdout",
     "output_type": "stream",
     "text": [
      "The square of given number `7` is : 49\n"
     ]
    }
   ],
   "source": [
    "number = int(input('Please Enter the  Number : '))          # taking inputs from user\n",
    "\n",
    "output = lambda number: number * number       # applying LAMBDA function\n",
    "\n",
    "print(f\"The square of given number `{number}` is : {output(number)}\")      # Printing result"
   ]
  },
  {
   "cell_type": "markdown",
   "id": "cd4efab8-9e81-4904-bbc6-5baf86c3988a",
   "metadata": {},
   "source": [
    "7. Create a lambda function to find the maximum value in a list of integers.\n",
    "\n",
    "ANS: "
   ]
  },
  {
   "cell_type": "code",
   "execution_count": 16,
   "id": "1d89786a-86fc-42bc-8103-0a47874c5ffa",
   "metadata": {},
   "outputs": [
    {
     "name": "stdin",
     "output_type": "stream",
     "text": [
      "Enter elements of a list separated by comma:  2,4,6,999,2,3,5\n"
     ]
    },
    {
     "name": "stdout",
     "output_type": "stream",
     "text": [
      "\n",
      "The user list is : ['2', '4', '6', '999', '2', '3', '5'].\n",
      "\n",
      "The maximum number from the user list is : 999.\n"
     ]
    }
   ],
   "source": [
    "input_list = input('Enter elements of a list separated by comma: ') # taking list elements from user\n",
    "\n",
    "user_list = input_list.split(',')       # preparing list\n",
    "\n",
    "print(f\"\\nThe user list is : {user_list}.\")       # printing user list\n",
    "\n",
    "max_value = max(user_list, key=lambda x:int(x))      # defining LAMBDA function\n",
    "\n",
    "print(f\"\\nThe maximum number from the user list is : {max_value}.\")       # printing max value from list"
   ]
  },
  {
   "cell_type": "markdown",
   "id": "a6e6787c-9a82-4f88-bfe0-f44aac11a633",
   "metadata": {},
   "source": [
    "8. Implement a lambda function to filter out all the even numbers from a list of integers.\n",
    "\n",
    "ANS: "
   ]
  },
  {
   "cell_type": "code",
   "execution_count": 17,
   "id": "5c8702fa-ec26-4eeb-94e9-0d264ceb22b4",
   "metadata": {},
   "outputs": [
    {
     "name": "stdout",
     "output_type": "stream",
     "text": [
      "\n",
      "The number list is : [11, 22, 33, 44, 55, 66, 77, 88, 99, 100].\n",
      "\n",
      "The List of Even Numbers is : [22, 44, 66, 88, 100]\n"
     ]
    }
   ],
   "source": [
    "num_list = [11, 22, 33, 44, 55, 66, 77, 88, 99, 100]     # defining list\n",
    "\n",
    "print(f\"\\nThe number list is : {num_list}.\")       # printing number list\n",
    "\n",
    "even_num = list(filter(lambda x: x % 2 == 0, num_list))   # applying LAMBDA function\n",
    "\n",
    "print(f\"\\nThe List of Even Numbers is : {even_num}\")      # printing list of even numbers"
   ]
  },
  {
   "cell_type": "markdown",
   "id": "e99cf7bd-4b44-40c4-ac74-0c513445e511",
   "metadata": {},
   "source": [
    "9. Write a lambda function to sort a list of strings in ascending order based on the length of each string.\n",
    "\n",
    "ANS: "
   ]
  },
  {
   "cell_type": "code",
   "execution_count": 20,
   "id": "b67b4ab7-085d-4a0a-bea3-b167014d0bcd",
   "metadata": {},
   "outputs": [
    {
     "name": "stdout",
     "output_type": "stream",
     "text": [
      "\n",
      "The list of string is : ['Arafath(Best guy)', 'Ravi(good guy)', 'Anjali(100years old rowdy akka)', 'Umesh(like brohter)', 'Preethi(power star)', 'Ujwala(good girl)', 'Vignatha(kopishti madam)'].\n",
      "\n",
      "The list elements in ascending order is : ['Ravi(good guy)', 'Arafath(Best guy)', 'Ujwala(good girl)', 'Umesh(like brohter)', 'Preethi(power star)', 'Vignatha(kopishti madam)', 'Anjali(100years old rowdy akka)'].\n"
     ]
    }
   ],
   "source": [
    "str_list = [\"Arafath(Best guy)\", \"Ravi(good guy)\", \"Anjali(100years old rowdy akka)\", \"Umesh(like brohter)\", \"Preethi(power star)\",\n",
    "            \"Ujwala(good girl)\", \"Vignatha(kopishti madam)\"]       # defining list of strings\n",
    "\n",
    "print(f\"\\nThe list of string is : {str_list}.\")       # printing user list of string\n",
    "\n",
    "sortedList = sorted(str_list, key=lambda x: len(x))      # defining LAMBDA function\n",
    "\n",
    "print(f\"\\nThe list elements in ascending order is : {sortedList}.\")       # printing max value from list"
   ]
  },
  {
   "cell_type": "markdown",
   "id": "c8178fd7-172f-42cd-bf5c-85d12a4f4e60",
   "metadata": {},
   "source": [
    "10. Create a lambda function that takes two lists as input and returns a new list containing the common elements between the two lists.\n",
    "\n",
    "ANS:"
   ]
  },
  {
   "cell_type": "code",
   "execution_count": 21,
   "id": "d1b77ddb-11dc-41f1-a81d-0bbdbe347bc5",
   "metadata": {},
   "outputs": [
    {
     "name": "stdout",
     "output_type": "stream",
     "text": [
      "The FIRST list is : [11, 22, 33, 44, 55, 66, 77, 88, 99].\n",
      "The SECOND list is : [22, 77, 44, 99, 33].\n",
      "\n",
      "The NEW List with common elements is : [22, 77, 44, 99, 33]\n"
     ]
    }
   ],
   "source": [
    "list_1 = [11,22,33,44,55,66,77,88,99]\n",
    "list_2 = [22,77,44,99,33]\n",
    "\n",
    "print(f\"The FIRST list is : {list_1}.\")\n",
    "print(f\"The SECOND list is : {list_2}.\")\n",
    "\n",
    "list_new = list(filter(lambda x: x in list_1, list_2)) \n",
    "\n",
    "print(f\"\\nThe NEW List with common elements is : {list_new}\")"
   ]
  },
  {
   "cell_type": "markdown",
   "id": "c402d23c-690f-4ab2-bd22-d577aa715cb2",
   "metadata": {},
   "source": [
    "11. Write a recursive function to calculate the factorial of a given positive integer.\n",
    "\n",
    "ANS:"
   ]
  },
  {
   "cell_type": "code",
   "execution_count": 22,
   "id": "ef2508fb-c75f-4a4a-b2cd-fc81949bf5b1",
   "metadata": {},
   "outputs": [
    {
     "name": "stdout",
     "output_type": "stream",
     "text": [
      "The factorial of `7` is :  5040.\n"
     ]
    }
   ],
   "source": [
    "# Factorial of a number using recursion\n",
    "\n",
    "def recur_factorial(n):\n",
    "    if n == 1:\n",
    "        return n\n",
    "    else:\n",
    "        return n*recur_factorial(n-1)\n",
    "\n",
    "num = 7\n",
    "\n",
    "# check if the number is negative\n",
    "\n",
    "if num < 0:\n",
    "    print(\"Please provide the postive number.\")\n",
    "elif num == 0:\n",
    "    print(\"The factorial of 0 is 1.\")\n",
    "else:\n",
    "    print(f\"The factorial of `{num}` is :  {recur_factorial(num)}.\")"
   ]
  },
  {
   "cell_type": "markdown",
   "id": "f64e44eb-3270-43ca-9b5e-cdaf41639b57",
   "metadata": {},
   "source": [
    "12. Implement a recursive function to compute the nth Fibonacci number.\n",
    "\n",
    "ANS:"
   ]
  },
  {
   "cell_type": "code",
   "execution_count": 23,
   "id": "e7c37675-436b-4cf0-9025-a56c294104c0",
   "metadata": {},
   "outputs": [
    {
     "name": "stdin",
     "output_type": "stream",
     "text": [
      "Enter the Number :  5\n"
     ]
    },
    {
     "name": "stdout",
     "output_type": "stream",
     "text": [
      "\n",
      "The 5th Fibonacci number is : 3\n"
     ]
    }
   ],
   "source": [
    "#recursive approach\n",
    "def fib_num(n):\n",
    "    if n<=0:\n",
    "        print(\"Fibonacci can't be computed\")\n",
    "   # First Fibonacci number\n",
    "    elif n==1:\n",
    "        return 0\n",
    "   # Second Fibonacci number\n",
    "    elif n==2:\n",
    "        return 1\n",
    "    else:\n",
    "        return fib_num(n-1)+fib_num(n-2)\n",
    "\n",
    "#input\n",
    "n=int(input(\"Enter the Number : \"))\n",
    "print(f\"\\nThe {n}th Fibonacci number is : {fib_num(n)}\")"
   ]
  },
  {
   "cell_type": "markdown",
   "id": "0a93f428-7b16-4694-96ca-5cbb50f11e39",
   "metadata": {},
   "source": [
    "13. Create a recursive function to find the sum of all the elements in a given list.\n",
    "\n",
    "ANS:"
   ]
  },
  {
   "cell_type": "code",
   "execution_count": 24,
   "id": "c7d7db16-3384-4e58-a1d5-80ee6cc1a97d",
   "metadata": {},
   "outputs": [
    {
     "name": "stdout",
     "output_type": "stream",
     "text": [
      "The given list is : [11, 22, 33, 44, 55].\n",
      "\n",
      "The sum of all the elements of given list is : 165.\n"
     ]
    }
   ],
   "source": [
    "my_list=[11,22,33,44,55]\n",
    " \n",
    "def sum_list(my_list, nSum):\n",
    "    if len(my_list):\n",
    "        return sum_list(my_list[1:], nSum+my_list[0])\n",
    "    else:\n",
    "        return nSum\n",
    "         \n",
    "print(f\"The given list is : {my_list}.\")\n",
    "print(f\"\\nThe sum of all the elements of given list is : {sum_list(my_list, 0)}.\")"
   ]
  },
  {
   "cell_type": "markdown",
   "id": "0ee228c2-970f-4260-8714-78951d0e6f18",
   "metadata": {},
   "source": [
    "14. Write a recursive function to determine whether a given string is a palindrome.\n",
    "\n",
    "ANS:"
   ]
  },
  {
   "cell_type": "code",
   "execution_count": 25,
   "id": "77c6eb28-3bf4-43b8-b081-db7688d3d8fe",
   "metadata": {},
   "outputs": [
    {
     "name": "stdin",
     "output_type": "stream",
     "text": [
      "Enter the string : 'Arafath'\n"
     ]
    },
    {
     "name": "stdout",
     "output_type": "stream",
     "text": [
      "\n",
      "The given string is : 'Arafath'.\n",
      "\n",
      "The string isn't a PALINDROME.\n"
     ]
    }
   ],
   "source": [
    "def check_palindrome(my_str):\n",
    "    if len(my_str) < 1:\n",
    "        return True\n",
    "    else:\n",
    "        if my_str[0] == my_str[-1]:\n",
    "            return check_palindrome(my_str[1:-1])\n",
    "        else:\n",
    "            return False\n",
    "    \n",
    "my_string = str(input(\"Enter the string :\"))\n",
    "\n",
    "print(f\"\\nThe given string is : {my_string}.\")\n",
    "\n",
    "\n",
    "if(check_palindrome(my_string)==True):\n",
    "    print(\"\\nThe string is a PALINDROME.\")\n",
    "else:\n",
    "    print(\"\\nThe string isn't a PALINDROME.\")"
   ]
  },
  {
   "cell_type": "markdown",
   "id": "b067164a-0912-4555-af7b-685541c39188",
   "metadata": {},
   "source": [
    "15. Implement a recursive function to find the greatest common divisor (GCD) of two positive integers.\n",
    "\n",
    "ANS: "
   ]
  },
  {
   "cell_type": "code",
   "execution_count": 27,
   "id": "11e5e00e-587f-4d5b-8dc2-a581972c9dfd",
   "metadata": {},
   "outputs": [
    {
     "name": "stdout",
     "output_type": "stream",
     "text": [
      "The greatest common divisor of `25` & `45` is : 5.\n"
     ]
    }
   ],
   "source": [
    "def gcd(num1, num2):\n",
    "    if num1 == num2:\n",
    "        return num1\n",
    "    elif num1 < num2:\n",
    "        return gcd(num2, num1)\n",
    "    else:\n",
    "        return cd(num2, num1 - num2)\n",
    "\n",
    "num1 = 25\n",
    "num2 = 45\n",
    "print(f\"The greatest common divisor of `{num1}` & `{num2}` is : {cd(num1, num2)}.\")"
   ]
  },
  {
   "cell_type": "code",
   "execution_count": null,
   "id": "f4880f68-1a72-4cd6-b150-e1ac78ecae61",
   "metadata": {},
   "outputs": [],
   "source": []
  }
 ],
 "metadata": {
  "kernelspec": {
   "display_name": "Python 3 (ipykernel)",
   "language": "python",
   "name": "python3"
  },
  "language_info": {
   "codemirror_mode": {
    "name": "ipython",
    "version": 3
   },
   "file_extension": ".py",
   "mimetype": "text/x-python",
   "name": "python",
   "nbconvert_exporter": "python",
   "pygments_lexer": "ipython3",
   "version": "3.10.6"
  }
 },
 "nbformat": 4,
 "nbformat_minor": 5
}
