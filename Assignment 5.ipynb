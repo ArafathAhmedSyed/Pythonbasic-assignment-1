{
 "cells": [
  {
   "cell_type": "markdown",
   "id": "24f0b177-782c-4ac5-af18-4ab7cc878fe8",
   "metadata": {},
   "source": [
    "Assignment 5"
   ]
  },
  {
   "cell_type": "markdown",
   "id": "bc0d0b0b-0c7a-4e75-b044-190840def683",
   "metadata": {},
   "source": [
    "1. What does an empty dictionary's code look like?\n",
    "Ans: An empty dictionary is often represented by two empty curly brackets\n",
    "d = {} or d = dict()"
   ]
  },
  {
   "cell_type": "markdown",
   "id": "44f90932-965a-40c6-944f-2ca04a0642e2",
   "metadata": {},
   "source": [
    "2. what is the value of dictionary value with key 'foo' and the value 42 ?\n",
    "Ans: {'foo':42}"
   ]
  },
  {
   "cell_type": "markdown",
   "id": "9d9031b2-0a02-41c7-9994-ed7e57f4a078",
   "metadata": {},
   "source": [
    "3. What is the most significant distinction between a dictionary and a list?\n",
    "Ans: Dictionaries are represented by {} where as listed are represented by []\n",
    "The Items stored in a dictionary are Unordered , while the items in a list are ordered"
   ]
  },
  {
   "cell_type": "markdown",
   "id": "f3c99124-f5f2-4a9a-b2b4-cfc85eedbff8",
   "metadata": {},
   "source": [
    "4. What happens if you try to access spam ['foo'] if spam is {'bar':100} ?\n",
    "Ans: we will get a keyError KeyError: 'foo'"
   ]
  },
  {
   "cell_type": "markdown",
   "id": "eb9154a9-787b-4f64-8567-2f4782b691f0",
   "metadata": {},
   "source": [
    "5. if a dictionary is stored in spam,what is the difference between the expressions 'cat' in spam and 'cat' in spam.keys() ?\n",
    "Ans: There is no difference . The operator checks whether a value exits as a key in the dictionary or not"
   ]
  },
  {
   "cell_type": "markdown",
   "id": "6f7b12c4-276b-40d5-8e36-dadd2666733c",
   "metadata": {},
   "source": [
    "6. if a dictionary is stored in spam,what is the difference between the expressions 'cat' in spam and 'cat' in spam.values() ?\n",
    "Ans:'cat' in spam checks whether there is a 'cat' key in the dictionary, while 'cat' in spam.values() checks whether there is a value 'cat' for one of the keys in spam."
   ]
  },
  {
   "cell_type": "markdown",
   "id": "539c4bdc-26db-46b0-b1cd-066a161f7f0f",
   "metadata": {},
   "source": [
    "7. what is a shortcut for the following code ?\n",
    "if 'color' not in spam: spam['color'] ='black'\n",
    "\n",
    "Ans: spam.setdefault('color','black')"
   ]
  },
  {
   "cell_type": "markdown",
   "id": "06caf1c9-bc8c-47af-9ad0-7278650b8d33",
   "metadata": {},
   "source": [
    "8. How do you 'pretty print' dictionary values using which modules and function ?\n",
    "Ans: we can pretty print a dictionary using three functions\n",
    "\n",
    "1. By using pprint() function of pprint module\n",
    "   Note: pprint() function doesnot prettify nested dictionaries\n",
    "2. By using dumps() method of json module\n",
    "3. By using dumps() method of yaml module"
   ]
  },
  {
   "cell_type": "code",
   "execution_count": 4,
   "id": "5efe8bdc-607b-456a-9c63-211a6c2dcfe6",
   "metadata": {},
   "outputs": [
    {
     "name": "stdout",
     "output_type": "stream",
     "text": [
      "Printing using print() function\n",
      " [{'Name': 'Arafath', 'Age': '23', 'Residence': {'Country': 'India', 'City': 'Nellore'}}, {'Name': 'Ravi', 'Age': '44', 'Residence': {'Country': 'USA', 'City': 'Newyork'}}, {'Name': 'Anjali', 'Age': '100', 'Residence': {'Country': 'UK', 'City': 'England'}}, {'Name': 'Lalith', 'Age': '35', 'Residence': {'Country': 'Japan', 'City': 'Osaka'}}, {'Name': 'Sukeshni', 'Age': '29', 'Residence': {'Country': 'UK', 'City': 'England'}}, {'Name': 'Gowri', 'Age': '10', 'Residence': {'Country': 'UK', 'City': 'England'}}, {'Name': 'Pavani', 'Age': '5', 'Residence': {'Country': 'UK', 'City': 'England'}}, {'Name': 'Ashita', 'Age': '29', 'Residence': {'Country': 'UK', 'City': 'England'}}]\n",
      "--------------------------------------------------\n",
      "Printing using pprint() funciton\n",
      "[{'Age': '23',\n",
      "  'Name': 'Arafath',\n",
      "  'Residence': {'City': 'Nellore', 'Country': 'India'}},\n",
      " {'Age': '44',\n",
      "  'Name': 'Ravi',\n",
      "  'Residence': {'City': 'Newyork', 'Country': 'USA'}},\n",
      " {'Age': '100',\n",
      "  'Name': 'Anjali',\n",
      "  'Residence': {'City': 'England', 'Country': 'UK'}},\n",
      " {'Age': '35',\n",
      "  'Name': 'Lalith',\n",
      "  'Residence': {'City': 'Osaka', 'Country': 'Japan'}},\n",
      " {'Age': '29',\n",
      "  'Name': 'Sukeshni',\n",
      "  'Residence': {'City': 'England', 'Country': 'UK'}},\n",
      " {'Age': '10',\n",
      "  'Name': 'Gowri',\n",
      "  'Residence': {'City': 'England', 'Country': 'UK'}},\n",
      " {'Age': '5',\n",
      "  'Name': 'Pavani',\n",
      "  'Residence': {'City': 'England', 'Country': 'UK'}},\n",
      " {'Age': '29',\n",
      "  'Name': 'Ashita',\n",
      "  'Residence': {'City': 'England', 'Country': 'UK'}}]\n",
      "--------------------------------------------------\n",
      "Printing using dumps() method\n",
      " [\n",
      "{\n",
      "\"Name\": \"Arafath\",\n",
      "\"Age\": \"23\",\n",
      "\"Residence\": {\n",
      "\"Country\": \"India\",\n",
      "\"City\": \"Nellore\"\n",
      "}\n",
      "},\n",
      "{\n",
      "\"Name\": \"Ravi\",\n",
      "\"Age\": \"44\",\n",
      "\"Residence\": {\n",
      "\"Country\": \"USA\",\n",
      "\"City\": \"Newyork\"\n",
      "}\n",
      "},\n",
      "{\n",
      "\"Name\": \"Anjali\",\n",
      "\"Age\": \"100\",\n",
      "\"Residence\": {\n",
      "\"Country\": \"UK\",\n",
      "\"City\": \"England\"\n",
      "}\n",
      "},\n",
      "{\n",
      "\"Name\": \"Lalith\",\n",
      "\"Age\": \"35\",\n",
      "\"Residence\": {\n",
      "\"Country\": \"Japan\",\n",
      "\"City\": \"Osaka\"\n",
      "}\n",
      "},\n",
      "{\n",
      "\"Name\": \"Sukeshni\",\n",
      "\"Age\": \"29\",\n",
      "\"Residence\": {\n",
      "\"Country\": \"UK\",\n",
      "\"City\": \"England\"\n",
      "}\n",
      "},\n",
      "{\n",
      "\"Name\": \"Gowri\",\n",
      "\"Age\": \"10\",\n",
      "\"Residence\": {\n",
      "\"Country\": \"UK\",\n",
      "\"City\": \"England\"\n",
      "}\n",
      "},\n",
      "{\n",
      "\"Name\": \"Pavani\",\n",
      "\"Age\": \"5\",\n",
      "\"Residence\": {\n",
      "\"Country\": \"UK\",\n",
      "\"City\": \"England\"\n",
      "}\n",
      "},\n",
      "{\n",
      "\"Name\": \"Ashita\",\n",
      "\"Age\": \"29\",\n",
      "\"Residence\": {\n",
      "\"Country\": \"UK\",\n",
      "\"City\": \"England\"\n",
      "}\n",
      "}\n",
      "]\n",
      "--------------------------------------------------\n",
      "Printing using dump() method\n",
      " - Age: '23'\n",
      "  Name: Arafath\n",
      "  Residence:\n",
      "    City: Nellore\n",
      "    Country: India\n",
      "- Age: '44'\n",
      "  Name: Ravi\n",
      "  Residence:\n",
      "    City: Newyork\n",
      "    Country: USA\n",
      "- Age: '100'\n",
      "  Name: Anjali\n",
      "  Residence:\n",
      "    City: England\n",
      "    Country: UK\n",
      "- Age: '35'\n",
      "  Name: Lalith\n",
      "  Residence:\n",
      "    City: Osaka\n",
      "    Country: Japan\n",
      "- Age: '29'\n",
      "  Name: Sukeshni\n",
      "  Residence:\n",
      "    City: England\n",
      "    Country: UK\n",
      "- Age: '10'\n",
      "  Name: Gowri\n",
      "  Residence:\n",
      "    City: England\n",
      "    Country: UK\n",
      "- Age: '5'\n",
      "  Name: Pavani\n",
      "  Residence:\n",
      "    City: England\n",
      "    Country: UK\n",
      "- Age: '29'\n",
      "  Name: Ashita\n",
      "  Residence:\n",
      "    City: England\n",
      "    Country: UK\n",
      "\n"
     ]
    }
   ],
   "source": [
    "ndict = [\n",
    "    {'Name': 'Arafath', 'Age': '23', 'Residence': {'Country':'India', 'City': 'Nellore'}},\n",
    "    {'Name': 'Ravi', 'Age': '44', 'Residence': {'Country':'USA', 'City': 'Newyork'}},\n",
    "    {'Name': 'Anjali', 'Age': '100', 'Residence': {'Country':'UK', 'City': 'England'}},\n",
    "    {'Name': 'Lalith', 'Age': '35', 'Residence': {'Country':'Japan', 'City': 'Osaka'}},\n",
    "    {'Name': 'Sukeshni', 'Age': '29', 'Residence': {'Country':'UK', 'City': 'London'}},\n",
    "    {'Name': 'Gowri', 'Age': '10', 'Residence': {'Country':'UK', 'City': 'England'}},\n",
    "    {'Name': 'Pavani', 'Age': '5', 'Residence': {'Country':'UK', 'City': 'England'}},\n",
    "    {'Name': 'Ashita', 'Age': '29', 'Residence': {'Country':'UK', 'City': 'England'}},\n",
    "]\n",
    "\n",
    "print('Printing using print() function\\n',ndict)\n",
    "print('-'*50)\n",
    "import pprint\n",
    "print('Printing using pprint() funciton')\n",
    "pprint.pprint(ndict)\n",
    "print('-'*50)\n",
    "import json\n",
    "dump = json.dumps(ndict, indent=0)\n",
    "print('Printing using dumps() method\\n', dump)\n",
    "print('-'*50)\n",
    "import yaml\n",
    "dump = yaml.dump(ndict)\n",
    "print('Printing using dump() method\\n', dump)"
   ]
  },
  {
   "cell_type": "code",
   "execution_count": null,
   "id": "dd43781f-d81e-4df0-9994-3e76ab4e9684",
   "metadata": {},
   "outputs": [],
   "source": []
  }
 ],
 "metadata": {
  "kernelspec": {
   "display_name": "Python 3 (ipykernel)",
   "language": "python",
   "name": "python3"
  },
  "language_info": {
   "codemirror_mode": {
    "name": "ipython",
    "version": 3
   },
   "file_extension": ".py",
   "mimetype": "text/x-python",
   "name": "python",
   "nbconvert_exporter": "python",
   "pygments_lexer": "ipython3",
   "version": "3.10.6"
  }
 },
 "nbformat": 4,
 "nbformat_minor": 5
}
