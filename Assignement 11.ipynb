{
 "cells": [
  {
   "cell_type": "raw",
   "id": "620189aa-2a23-4ca1-8415-61b03f270e64",
   "metadata": {},
   "source": [
    "Assignment 11"
   ]
  },
  {
   "cell_type": "markdown",
   "id": "1493cc38-490b-421b-a9b2-f372b659a6ce",
   "metadata": {},
   "source": [
    "1. What is the role of the 'else' block in a try-except statement? Provide an example scenario where it would be useful.\n",
    "Ans:\n",
    "     a) The purpose of the else block in try-except is to execute code that should only run if no exceptions were raised in the try block.\n",
    "    b)The else block is optional, and it follows all the except blocks in a try-except statement.\n",
    "    c)If no exceptions are raised in the try block, the code in the else block is executed. This is useful for cases where you want to perform some action only if the try block completes successfully.\n",
    "Example:"
   ]
  },
  {
   "cell_type": "code",
   "execution_count": 2,
   "id": "926a5285-5b1f-4bae-ad08-3b9aa5f25b18",
   "metadata": {},
   "outputs": [
    {
     "name": "stdout",
     "output_type": "stream",
     "text": [
      "Case-1\n"
     ]
    },
    {
     "name": "stdin",
     "output_type": "stream",
     "text": [
      "\tEnter the first number:  27\n",
      "\tEnter the second number:  3\n"
     ]
    },
    {
     "name": "stdout",
     "output_type": "stream",
     "text": [
      "\tThe result is: 9.0\n",
      "Case-2\n"
     ]
    },
    {
     "name": "stdin",
     "output_type": "stream",
     "text": [
      "\tEnter the first number:  2\n",
      "\tEnter the second number:  0\n"
     ]
    },
    {
     "name": "stdout",
     "output_type": "stream",
     "text": [
      "\tError: You cannot divide by zero.\n"
     ]
    }
   ],
   "source": [
    "try:\n",
    "    print(f\"Case-1\")\n",
    "    num1 = int(input(\"\\tEnter the first number: \"))     \n",
    "    num2 = int(input(\"\\tEnter the second number: \"))     \n",
    "    result = num1 / num2\n",
    "    \n",
    "except ZeroDivisionError:     \n",
    "    print(\"\\tError: You cannot divide by zero.\") \n",
    "    \n",
    "else:     \n",
    "    print(\"\\tThe result is:\", result)\n",
    "    \n",
    "##################################################    \n",
    "    \n",
    "try:\n",
    "    print(f\"Case-2\")\n",
    "    num1 = int(input(\"\\tEnter the first number: \"))     \n",
    "    num2 = int(input(\"\\tEnter the second number: \"))     \n",
    "    result = num1 / num2\n",
    "    \n",
    "except ZeroDivisionError:     \n",
    "    print(\"\\tError: You cannot divide by zero.\") \n",
    "    \n",
    "else:     \n",
    "    print(\"\\tThe result is:\", result)"
   ]
  },
  {
   "cell_type": "markdown",
   "id": "1cfae739-8dcf-4264-8da7-df453c5cd64d",
   "metadata": {},
   "source": [
    "2. Can a try-except block be nested inside another try-except block? Explain with an example.\n",
    "Ans:\n",
    "a)Yes, we can nested a try-except block within another try-except block, this is called nested try-except block.\n",
    "b)In this case, if an exception is raised in the nested try block, the nested except block is used to handle it. In case the nested except is not able to handle it, the outer except blocks are used to handle the exception.\n",
    "Example:"
   ]
  },
  {
   "cell_type": "code",
   "execution_count": 3,
   "id": "a07ebf4b-155b-4b42-9c45-8d6fa8d4e8d3",
   "metadata": {},
   "outputs": [
    {
     "name": "stdout",
     "output_type": "stream",
     "text": [
      "OUTER TRY BLOCK\n",
      "\tINNER TRY BLOCK\n",
      "OUTER EXCEPT BLOCK\n",
      "division by zero\n"
     ]
    }
   ],
   "source": [
    "x = 10\n",
    "y = 0\n",
    " \n",
    "try:\n",
    "    print(\"OUTER TRY BLOCK\")\n",
    "    try:\n",
    "        print(\"\\tINNER TRY BLOCK\")\n",
    "        print(x / y)\n",
    "    except TypeError as te:\n",
    "        print(\"\\tINNER EXCEPT BLOCK\")\n",
    "        print(te)\n",
    "except ZeroDivisionError as ze:\n",
    "    print(\"OUTER EXCEPT BLOCK\")\n",
    "    print(ze)"
   ]
  },
  {
   "cell_type": "markdown",
   "id": "1c68a6a3-2d76-41f4-802b-4ec7e50b07e3",
   "metadata": {},
   "source": [
    "3. How can you create a custom exception class in Python? Provide an example that demonstrates its usage.\n",
    "Ans:\n",
    "\n",
    "Custom Exceptions:\n",
    "\n",
    "In Python, we can define custom exceptions by creating a new class that is derived from the built-in Exception class.\n",
    "Example with demonstration:\n",
    "\n",
    "If the user input input_num is greater than 18, then there will be NO exception and program runs as expected.\n",
    "If the user input input_num is smaller than 18, then it will raise an exception.\n",
    "In example below, we have defined the custom exceptionInvalidAgeException by creating a new class that is derived from the built-in Exception class.\n",
    "Here, when input_num is smaller than 18, this code generates an exception.\n",
    "When an exception occurs, the rest of the code inside the try block is skipped.\n",
    "The except block catches the user-defined InvalidAgeException exception and statements inside the except block are executed."
   ]
  },
  {
   "cell_type": "code",
   "execution_count": 4,
   "id": "2187df7c-532b-4ab7-89b4-232f7535bf88",
   "metadata": {},
   "outputs": [
    {
     "name": "stdin",
     "output_type": "stream",
     "text": [
      "Enter a number:  15\n"
     ]
    },
    {
     "name": "stdout",
     "output_type": "stream",
     "text": [
      "Exception occurred: Invalid Age\n"
     ]
    }
   ],
   "source": [
    "# define Python user-defined exceptions\n",
    "class InvalidAgeException(Exception):\n",
    "    \"Raised when the input value is less than 18\"\n",
    "    pass\n",
    "\n",
    "# you need to guess this number\n",
    "number = 18\n",
    "\n",
    "try:\n",
    "    input_num = int(input(\"Enter a number: \"))\n",
    "    if input_num < number:\n",
    "        raise InvalidAgeException\n",
    "    else:\n",
    "        print(\"Eligible to Vote\")\n",
    "        \n",
    "except InvalidAgeException:\n",
    "    print(\"Exception occurred: Invalid Age\")"
   ]
  },
  {
   "cell_type": "markdown",
   "id": "b7c69c2e-cf76-4242-b818-6622df5f4be5",
   "metadata": {},
   "source": [
    "4. What are some common exceptions that are built-in to Python?\n",
    "Ans:\n",
    "\n",
    "Exceptions:\n",
    "\n",
    "Errors that occur at runtime (after passing the syntax test) are called exceptions or logical errors.\n",
    "Illegal operations can raise exceptions. There are plenty of built-in exceptions in Python that are raised when corresponding errors occur.\n",
    "We can view all the built-in exceptions using the built-in local() function as follows:\n",
    "                print(dir(locals()['__builtins__']))\n",
    "Here, locals()['builtins'] will return a module of built-in exceptions, functions, and attributes and dir allows us to list these attributes as strings.\n",
    "The various exceptions and their causes are listed below:\n",
    "AssertionError: Raised when an assert statement fails.\n",
    "AttributeError: Raised when attribute assignment or reference fails.\n",
    "EOFError: Raised when the input() function hits end-of-file condition.\n",
    "FloatingPointError: Raised when a floating point operation fails.\n",
    "GeneratorExit: Raise when a generator's close() method is called.\n",
    "ImportError: Raised when the imported module is not found.\n",
    "IndexError: Raised when the index of a sequence is out of range.\n",
    "KeyError: Raised when a key is not found in a dictionary.\n",
    "KeyboardInterrupt: Raised when the user hits the interrupt key (Ctrl+C or Delete).\n",
    "MemoryError: Raised when an operation runs out of memory.\n",
    "NameError Raised when a variable is not found in local or global scope.\n",
    "NotImplementedError Raised by abstract methods.\n",
    "OSError Raised when system operation causes system related error.\n",
    "OverflowError Raised when the result of an arithmetic operation is too large to be represented.\n",
    "ReferenceError Raised when a weak reference proxy is used to access a garbage collected referent.\n",
    "RuntimeError Raised when an error does not fall under any other category.\n",
    "StopIteration Raised by next() function to indicate that there is no further item to be returned by iterator.\n",
    "SyntaxError Raised by parser when syntax error is encountered.\n",
    "IndentationError Raised when there is incorrect indentation.\n",
    "TabError Raised when indentation consists of inconsistent tabs and spaces.\n",
    "SystemError Raised when interpreter detects internal error.\n",
    "SystemExit Raised by sys.exit() function.\n",
    "TypeError Raised when a function or operation is applied to an object of incorrect type.\n",
    "UnboundLocalError Raised when a reference is made to a local variable in a function or method, but no value has been bound to that variable.\n",
    "UnicodeError Raised when a Unicode-related encoding or decoding error occurs.\n",
    "UnicodeEncodeError Raised when a Unicode-related error occurs during encoding.\n",
    "UnicodeDecodeError Raised when a Unicode-related error occurs during decoding.\n",
    "UnicodeTranslateError Raised when a Unicode-related error occurs during translating.\n",
    "ValueError Raised when a function gets an argument of correct type but improper value.\n",
    "ZeroDivisionError Raised when the second operand of division or modulo operation is zero."
   ]
  },
  {
   "cell_type": "markdown",
   "id": "04aa716d-ac61-4236-959e-9fe285b2c02c",
   "metadata": {},
   "source": [
    "5. What is logging in Python, and why is it important in software development?\n",
    "Ans:\n",
    "\n",
    "Logging:\n",
    "\n",
    "Logging is a means of tracking events that happen when some software runs. Logging is important for software developing, debugging, and running. If you don’t have any logging record and your program crashes, there are very few chances that you detect the cause of the problem. And if you detect the cause, it will consume a lot of time. With logging, you can leave a trail of breadcrumbs so that if something goes wrong, we can determine the cause of the problem.\n",
    "Levels of Log Message:\n",
    "\n",
    "Debug (Level-10): These are used to give Detailed information, typically of interest only when diagnosing problems.\n",
    "Info (Level-20) : These are used to confirm that things are working as expected.\n",
    "Warning (Level-30) : These are used an indication that something unexpected happened, or is indicative of some problem in the near future.\n",
    "Error (Level-40) : This tells that due to a more serious problem, the software has not been able to perform some function.\n",
    "Critical (Level-50) : This tells serious error, indicating that the program itself may be unable to continue running\n",
    "\n",
    "Importance:\n",
    "\n",
    "a)Logging is essential to understand the behaviour of the application and to debug unexpected issues or for simply tracking events. In the production environment, we can’t debug issues without proper log files as they become the only source of information to debug some intermittent or unexpected errors.\n",
    "b)Helps Troubleshooting Bugs.\n",
    "c)Improves Monitoring Projects in Production Environments.\n",
    "d)Facilitates Debugging.\n",
    "e)You can easily control the format of the messages you log. The module comes with a lot of useful attributes that you can decide to include in your log.\n",
    "f)You can log messages with different levels of urgency/warning/information. This allows you to categorize log messages easily and makes your debugging life way easier.\n",
    "g)You can set the destination of your logs to pretty much anything. Even to sockets.\n",
    "h)Doesn’t tamper with the user experience if your module is being imported by other users.\n"
   ]
  },
  {
   "cell_type": "markdown",
   "id": "31990b4c-d169-41b2-bb39-484903c3415b",
   "metadata": {},
   "source": [
    "6. Explain the purpose of log levels in Python logging and provide examples of when each log level would be appropriate.\n",
    "Ans:\n",
    "\n",
    "There are 5 standard levels indicating the severity of events. Each has a corresponding method that can be used to log events at that level of severity. The defined levels, in order of increasing severity, are the following:\n",
    "        1. DEBUG\n",
    "        2. INFO\n",
    "        3. WARNING\n",
    "        4. ERROR\n",
    "        5. CRITICAL\n",
    "Example: The basic example on logging is as below: While there are five lines of logging, you may see only three lines of output if you run this script. This is because the root logger, by default, only prints the log messages of a severity level of WARNING or above. However, using the root logger this way is not much different from using the print() function."
   ]
  },
  {
   "cell_type": "code",
   "execution_count": 5,
   "id": "9c83b0cc-9207-4db4-8205-a651b3ba05c7",
   "metadata": {},
   "outputs": [
    {
     "name": "stderr",
     "output_type": "stream",
     "text": [
      "WARNING:root:Warning message\n",
      "ERROR:root:Error message\n",
      "CRITICAL:root:Critical message\n"
     ]
    }
   ],
   "source": [
    "import logging\n",
    "\n",
    "logging.debug('Debug message')\n",
    "logging.info('Info message')\n",
    "logging.warning('Warning message')\n",
    "logging.error('Error message')\n",
    "logging.critical('Critical message')"
   ]
  },
  {
   "cell_type": "markdown",
   "id": "5d404f59-0474-4cde-9a45-d14f2869d4a6",
   "metadata": {},
   "source": [
    "7. What are log formatters in Python logging, and how can you customise the log message format using formatters?\n",
    "Ans:\n",
    "\n",
    "Log Formatters:\n",
    "\n",
    "The formatters are used to define the structure of the output. It is used the string formatting methods to specify the format of the log messages.\n",
    "To configure the format of the logger, we use a Formatter. It allows us to set the format of the log, similarly to how we did so in the root logger’s basicConfig().\n",
    "First, we create a formatter, then set our handler to use that formatter. If we wanted to, we could make several different loggers, handlers, and formatters so that we could mix and match based on our preferences."
   ]
  },
  {
   "cell_type": "code",
   "execution_count": 6,
   "id": "e3a3e93a-07a7-4b85-98c9-99a5fb2f1ab2",
   "metadata": {},
   "outputs": [
    {
     "name": "stderr",
     "output_type": "stream",
     "text": [
      "INFO:parent:Info message\n",
      "WARNING:parent:Warning message\n",
      "ERROR:parent:Error message\n",
      "CRITICAL:parent:Critical message\n"
     ]
    }
   ],
   "source": [
    "import logging\n",
    "\n",
    "# Set up root logger, and add a file handler to root logger\n",
    "logging.basicConfig(filename = 'file.log',\n",
    "                    level = logging.WARNING,\n",
    "                    format = '%(asctime)s:%(levelname)s:%(name)s:%(message)s')\n",
    "\n",
    "# Create logger, set level, and add stream handler\n",
    "parent_logger = logging.getLogger(\"parent\")\n",
    "parent_logger.setLevel(logging.INFO)\n",
    "parent_fhandler = logging.FileHandler('parent.log')\n",
    "parent_fhandler.setLevel(logging.WARNING)\n",
    "parent_formatter = logging.Formatter('%(asctime)s:%(levelname)s:%(message)s')\n",
    "parent_fhandler.setFormatter(parent_formatter)\n",
    "parent_logger.addHandler(parent_fhandler)\n",
    "\n",
    "# Log message of severity INFO or above will be handled\n",
    "parent_logger.debug('Debug message')\n",
    "parent_logger.info('Info message')\n",
    "parent_logger.warning('Warning message')\n",
    "parent_logger.error('Error message')\n",
    "parent_logger.critical('Critical message')"
   ]
  },
  {
   "cell_type": "markdown",
   "id": "641a12b4-3f50-4df0-ac79-ed6ef416dcf5",
   "metadata": {},
   "source": [
    "8. How can you set up logging to capture log messages from multiple modules or classes in a Python application?\n",
    "Ans:\n",
    "\n",
    "Log Messages from Multiple Modules:\n",
    "\n",
    "A well-organized Python application is likely composed of many modules. Sometimes these modules are intended to be used by other programs. Still, unless you’re intentionally developing reusable modules inside your application, you’re likely using modules available from PyPI and modules that you write yourself specifically for your application.\n",
    "In general, a module should emit log messages as a best practice and should not configure how those messages are handled. That is the responsibility of the application.\n",
    "The module needs two lines to set up logging, and then use the named logger:\n",
    "                import logging\n",
    "                log = logging.getLogger(__name__)\n",
    "                def do_something():\n",
    "                        log.debug(\"Doing something!\")\n",
    "\n",
    "Setup:\n",
    "\n",
    "To set up basic logging onto a file, you can use the basicConfig() constructor, as shown below."
   ]
  },
  {
   "cell_type": "code",
   "execution_count": 7,
   "id": "5344a219-6522-4672-8792-e4676d80878f",
   "metadata": {},
   "outputs": [
    {
     "name": "stderr",
     "output_type": "stream",
     "text": [
      "WARNING:root:A WARNING\n",
      "ERROR:root:An ERROR\n",
      "CRITICAL:root:A message of CRITICAL severity\n"
     ]
    }
   ],
   "source": [
    "import logging\n",
    "\n",
    "logging.basicConfig(filename=\"py_log.log\",\n",
    "                    level=logging.INFO, \n",
    "                    filemode=\"w\",\n",
    "                    format=\"%(asctime)s %(levelname)s %(message)s\")\n",
    "logging.debug(\"A DEBUG Message\")\n",
    "logging.info(\"An INFO\")\n",
    "logging.warning(\"A WARNING\")\n",
    "logging.error(\"An ERROR\")\n",
    "logging.critical(\"A message of CRITICAL severity\")"
   ]
  },
  {
   "cell_type": "markdown",
   "id": "6f656afc-c081-42f9-b788-e444a2e19461",
   "metadata": {},
   "source": [
    "Here, the purpose of various parameters are as below:\n",
    "1. **`level:`** This is the level you’d like to start logging at. If this is set to info, then all messages corresponding to debug are ignored.\n",
    "2. **`filename:`** The parameter filename denotes the file handler object. You can specify the name of the file to log onto.\n",
    "3. **`filemode:`** This is an optional parameter specifying the mode in which you’d like to work with the log file specified by the parameter filename. Setting the file mode to it write (w) will overwrite the logs every time the module is run. The default filemode is append (a) which means you’ll have a log record of events across all runs of the program.\n",
    "After running the main module, you’ll see that the log file py_log.log has been created in the current working directory."
   ]
  },
  {
   "cell_type": "markdown",
   "id": "a6987d19-c873-4503-ba58-d903396f912c",
   "metadata": {},
   "source": [
    "9. What is the difference between the logging and print statements in Python? When should you use logging over print statements in a real-world application?\n",
    "Ans:\n",
    "\n",
    "Logging in Python:\n",
    "\n",
    "Record events and errors that occur during the execution of Python programs.\n",
    "Mainly used in the production environment.\n",
    "Some features are: Log levels, filtering, formatting, and more.\n",
    "It provides different log levels such as Debug, Info, Error, Warning, and Critical.\n",
    "Example:"
   ]
  },
  {
   "cell_type": "code",
   "execution_count": 8,
   "id": "64b7fce9-a158-454e-9155-5d3180df217c",
   "metadata": {},
   "outputs": [],
   "source": [
    "import logging; \n",
    "logging.basicConfig(level=logging.INFO); \n",
    "logging.info(\"Hello\")\n",
    "\n",
    "# Output:\n",
    "\n",
    "# Can be configured to log to different output destinations (e.g. console, file, network)"
   ]
  },
  {
   "cell_type": "markdown",
   "id": "3fc1a6ca-d85d-4f59-b316-e12fb71ff37a",
   "metadata": {},
   "source": [
    "Print in Python:\n",
    "\n",
    "a)Displays the information to the console for the debugging purposes.\n",
    "Mainly for debugging, There are no good features.\n",
    "It does not have any levels, it simply prints whatever is passed to it.\n",
    "Example:"
   ]
  },
  {
   "cell_type": "code",
   "execution_count": 9,
   "id": "74b1719d-9c54-4bbd-8a10-2bb098fc1c76",
   "metadata": {},
   "outputs": [
    {
     "name": "stdout",
     "output_type": "stream",
     "text": [
      "Hello World!\n"
     ]
    }
   ],
   "source": [
    "print(\"Hello World!\")\n",
    "\n",
    "# Output:\n",
    "\n",
    "# Prints only on the console"
   ]
  },
  {
   "cell_type": "markdown",
   "id": "0f39b10d-4b6c-47cb-b46a-175204a3119b",
   "metadata": {},
   "source": [
    "10. Write a Python program that logs a message to a file named \"app.log\" with the following requirements:\n",
    "        ● The log message should be \"Hello, World!\"\n",
    "        ● The log level should be set to \"INFO.\"\n",
    "        ● The log file should append new log entries without overwriting previous ones.\n",
    "Ans:\n",
    "\n",
    "The program that record a log message \"Hello World!\" is as below:"
   ]
  },
  {
   "cell_type": "code",
   "execution_count": 10,
   "id": "fc96a09b-da38-4da0-8a67-98441e232ff7",
   "metadata": {},
   "outputs": [
    {
     "name": "stderr",
     "output_type": "stream",
     "text": [
      "WARNING:root:A WARNING\n",
      "ERROR:root:An ERROR\n",
      "CRITICAL:root:A message of CRITICAL severity\n"
     ]
    }
   ],
   "source": [
    "import logging\n",
    "\n",
    "logging.basicConfig(filename=\"app.log\",                       # setting filename as `app.log`\n",
    "                    level=logging.INFO,                                           # seting level as `INFO`\n",
    "                    filemode=\"w\",                                                       # setting filemode as `Write`\n",
    "                    format=\"%(asctime)s %(levelname)s %(message)s\")  # setting th format of log lines\n",
    "logging.debug(\"A DEBUG Message\")\n",
    "logging.info(\"Hello World!\")\n",
    "logging.warning(\"A WARNING\")\n",
    "logging.error(\"An ERROR\")\n",
    "logging.critical(\"A message of CRITICAL severity\")"
   ]
  },
  {
   "cell_type": "code",
   "execution_count": null,
   "id": "4b0d5cba-a850-4006-b075-0330d0fd1832",
   "metadata": {},
   "outputs": [],
   "source": [
    "11. Create a Python program that logs an error message to the console and a file named \"errors.log\" if an exception occurs during the program's execution. The error message should include the exception type and a timestamp"
   ]
  }
 ],
 "metadata": {
  "kernelspec": {
   "display_name": "Python 3 (ipykernel)",
   "language": "python",
   "name": "python3"
  },
  "language_info": {
   "codemirror_mode": {
    "name": "ipython",
    "version": 3
   },
   "file_extension": ".py",
   "mimetype": "text/x-python",
   "name": "python",
   "nbconvert_exporter": "python",
   "pygments_lexer": "ipython3",
   "version": "3.10.6"
  }
 },
 "nbformat": 4,
 "nbformat_minor": 5
}
