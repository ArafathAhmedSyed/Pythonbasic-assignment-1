{
 "cells": [
  {
   "cell_type": "markdown",
   "id": "3142928f-19f5-46ff-ad5a-bfd4b4a07175",
   "metadata": {},
   "source": [
    "1. Explain what inheritance is in object-oriented programming and why it is used."
   ]
  },
  {
   "cell_type": "code",
   "execution_count": 1,
   "id": "5552a1ea-bdec-420a-88ea-4e3430b955ca",
   "metadata": {},
   "outputs": [],
   "source": [
    "#oops inheritance is he concept that allows one class variables and property to inherited by another class\n",
    "#for example\n",
    "class person:\n",
    "    def __init__(self,name):\n",
    "        self.name = name\n",
    "    \n",
    "    def info(self):\n",
    "        print(f\" my name is {self.name}\")"
   ]
  },
  {
   "cell_type": "code",
   "execution_count": 2,
   "id": "57de51b9-3e1b-4ab3-be51-6bc56b342831",
   "metadata": {},
   "outputs": [],
   "source": [
    "class car(person):\n",
    "    def __init__(self,brand,owner_name):\n",
    "        super().__init__(owner_name)\n",
    "        self.brand = brand\n",
    "    def owner(self):\n",
    "        print(f\"THE OWNER OF {self.brand } car is {self.name}\")"
   ]
  },
  {
   "cell_type": "code",
   "execution_count": 3,
   "id": "a4ea7f34-549e-4dcd-a9e6-593353ccfe78",
   "metadata": {},
   "outputs": [],
   "source": [
    "car = car(\"BMW\",\"Arafath\")"
   ]
  },
  {
   "cell_type": "code",
   "execution_count": 4,
   "id": "e2bcbee0-ff54-49ef-b7ad-03c3b62ac4e2",
   "metadata": {},
   "outputs": [
    {
     "name": "stdout",
     "output_type": "stream",
     "text": [
      "THE OWNER OF BMW car is Arafath\n"
     ]
    }
   ],
   "source": [
    "car.owner()"
   ]
  },
  {
   "cell_type": "markdown",
   "id": "162baed6-ad28-4c46-850b-01621eea9bdd",
   "metadata": {},
   "source": [
    "2. Discuss the concept of single inheritance and multiple inheritance, highlighting their differences and advantages."
   ]
  },
  {
   "cell_type": "code",
   "execution_count": 5,
   "id": "9613b786-80c8-47fe-9caf-9fed1e429720",
   "metadata": {},
   "outputs": [],
   "source": [
    "#single inheritance that we can inherite the class propertys in another example\n",
    "class person:\n",
    "    def __init__(self,name):\n",
    "        self.name = name\n",
    "    \n",
    "    def info(self):\n",
    "        print(f\" my name is {self.name}\")\n",
    "class car(person):\n",
    "    def __init__(self,brand,owner_name):\n",
    "        super().__init__(owner_name)\n",
    "        self.brand = brand\n",
    "    def owner(self):\n",
    "        print(f\"THE OWNER OF {self.brand } car is {self.name}\")"
   ]
  },
  {
   "cell_type": "code",
   "execution_count": 6,
   "id": "1ccc1817-5d5b-441e-bbfb-c5487b5f0a82",
   "metadata": {},
   "outputs": [],
   "source": [
    "car = car(\"BMW\",\"Arafath\")"
   ]
  },
  {
   "cell_type": "code",
   "execution_count": 7,
   "id": "b1a1aa0d-4e5c-4880-9075-efa974ab168b",
   "metadata": {},
   "outputs": [
    {
     "name": "stdout",
     "output_type": "stream",
     "text": [
      "THE OWNER OF BMW car is Arafath\n"
     ]
    }
   ],
   "source": [
    "car.owner()"
   ]
  },
  {
   "cell_type": "code",
   "execution_count": 8,
   "id": "c00e7918-6224-4424-ae08-c3f2621401ec",
   "metadata": {},
   "outputs": [],
   "source": [
    "#when it comes to multiple inheritance .we can call multiple class in a single class\n",
    "class dog:\n",
    "    def __init__(self,name):\n",
    "        self.name = name\n",
    "    def bark(self):\n",
    "        print(f\"{self.name} says woof woof !!!\")\n",
    "class cat:\n",
    "    def __init__(self,name):\n",
    "        self.name = name\n",
    "    def meowy(self):\n",
    "        print(f\"{self.name} says meow meow !!!\")\n",
    "class dog_and_cat(dog,cat):\n",
    "    def __init__(self,name):\n",
    "        super().__init__(name)"
   ]
  },
  {
   "cell_type": "code",
   "execution_count": 9,
   "id": "c1316e04-0a32-4648-8fc2-8c2de3652e3d",
   "metadata": {},
   "outputs": [],
   "source": [
    "d_and_c = dog_and_cat(\"jacky\")"
   ]
  },
  {
   "cell_type": "code",
   "execution_count": 11,
   "id": "e08fb676-7bf1-4fc8-af0a-3ff3687f6485",
   "metadata": {},
   "outputs": [
    {
     "name": "stdout",
     "output_type": "stream",
     "text": [
      "jacky says meow meow !!!\n"
     ]
    }
   ],
   "source": [
    "d_and_c.meowy()"
   ]
  },
  {
   "cell_type": "code",
   "execution_count": 13,
   "id": "5b8886f4-0384-4a41-8856-996915cc7dd9",
   "metadata": {},
   "outputs": [
    {
     "name": "stdout",
     "output_type": "stream",
     "text": [
      "jacky says woof woof !!!\n"
     ]
    }
   ],
   "source": [
    "d_and_c.bark()"
   ]
  },
  {
   "cell_type": "markdown",
   "id": "aedeb1e7-561e-4eff-bfda-9de60cb8a219",
   "metadata": {},
   "source": [
    "3. Explain the terms \"base class\" and \"derived class\" in the context of inheritance."
   ]
  },
  {
   "cell_type": "code",
   "execution_count": 14,
   "id": "57d24720-d683-4102-8d43-525e0f3dea2a",
   "metadata": {},
   "outputs": [],
   "source": [
    "#base class is a parent class by which we can derive new class which is derived class for example\n",
    "\n",
    "#vehicle is a parent class or base class\n",
    "class vehicle:                                                         # this is a parent class\n",
    "    def __init__(self,model):\n",
    "        self.model = model\n",
    "    def info(self):\n",
    "        print(f\"the car brand is {self.model}. and this class is called base class or parent class\")\n",
    "\n",
    "#bmw and ninja is a derived class\n",
    "class bmw(vehicle):\n",
    "    def __init__(self,num_wheels,model):\n",
    "        super().__init__(model)\n",
    "        self.num_wheels = num_wheels\n",
    "    def info(self):\n",
    "        print(f\"the bmw {self.model} has {self.num_wheels} wheels\")\n",
    "class ninja(vehicle):                                                  #this is a derived class\n",
    "    def __init__(self,num_wheels,model):\n",
    "        super().__init__(model)\n",
    "        self.num_wheels = num_wheels\n",
    "    def info(self):\n",
    "        print(f\"the ninja {self.model} has {self.num_wheels} wheels\")"
   ]
  },
  {
   "cell_type": "code",
   "execution_count": 15,
   "id": "60662339-63b0-4cb7-b9c2-ea1037f41e7f",
   "metadata": {},
   "outputs": [],
   "source": [
    "bmw = bmw(4,\"x5\")"
   ]
  },
  {
   "cell_type": "code",
   "execution_count": 16,
   "id": "38d2fb8b-487d-43cc-aaca-1f63ec4006f1",
   "metadata": {},
   "outputs": [
    {
     "name": "stdout",
     "output_type": "stream",
     "text": [
      "the bmw x5 has 4 wheels\n"
     ]
    }
   ],
   "source": [
    "bmw.info()"
   ]
  },
  {
   "cell_type": "code",
   "execution_count": 17,
   "id": "2e4c21d8-07ff-490a-9c19-27416554337e",
   "metadata": {},
   "outputs": [
    {
     "name": "stdout",
     "output_type": "stream",
     "text": [
      "the ninja h2r has 2 wheels\n"
     ]
    }
   ],
   "source": [
    "ninja = ninja(2,\"h2r\")\n",
    "ninja.info()"
   ]
  },
  {
   "cell_type": "markdown",
   "id": "d33acc76-43f3-470e-bd72-0c0b92c2f1c3",
   "metadata": {},
   "source": [
    "4. What is the significance of the \"protected\" access modifier in inheritance? How does it differ from \"private\" and \"public\" modifiers?"
   ]
  },
  {
   "cell_type": "markdown",
   "id": "377ee830-673a-4616-9dc5-4c69dbaa91ec",
   "metadata": {},
   "source": [
    "protected access modifier"
   ]
  },
  {
   "cell_type": "code",
   "execution_count": 19,
   "id": "23b681bc-67e6-4a3c-b4cf-0eb030e62e9c",
   "metadata": {},
   "outputs": [],
   "source": [
    "#Protected members are indicated by name mangling and are intended for use within the class and its subclasses,\n",
    "\n",
    "#have 2 __ \n",
    "class person:\n",
    "    def __init__(self,name):\n",
    "        self.name = name\n",
    "    def __info(self):\n",
    "        print(f\" my name is {self.name}\")"
   ]
  },
  {
   "cell_type": "code",
   "execution_count": 20,
   "id": "b1e961a6-d135-44c1-85ee-28f60cb9e7aa",
   "metadata": {},
   "outputs": [
    {
     "name": "stdout",
     "output_type": "stream",
     "text": [
      "its protected access modifier its fully protected by concerned developer\n"
     ]
    }
   ],
   "source": [
    "person = person(\"sharan\")\n",
    "try:\n",
    "    person.__info() # we cant use it outside the class.its stricly not alloweded\n",
    "except:\n",
    "    print(\"its protected access modifier its fully protected by concerned developer\")"
   ]
  },
  {
   "cell_type": "markdown",
   "id": "1549a192-24bf-4364-9f73-af63be211834",
   "metadata": {},
   "source": [
    "public access modifier"
   ]
  },
  {
   "cell_type": "code",
   "execution_count": 25,
   "id": "56ee33d2-46c7-45bc-8024-be8e228f1f1e",
   "metadata": {},
   "outputs": [],
   "source": [
    "#have no _underscore its user friendly\n",
    "class person:\n",
    "    def __init__(self,name):\n",
    "        self.name = name\n",
    "    def info(self):\n",
    "        print(f\" my name is {self.name}\")"
   ]
  },
  {
   "cell_type": "code",
   "execution_count": 26,
   "id": "7e42f1af-8e45-4e28-b5c4-8d57c1aadcc5",
   "metadata": {},
   "outputs": [
    {
     "name": "stdout",
     "output_type": "stream",
     "text": [
      " my name is Arafath\n"
     ]
    }
   ],
   "source": [
    "person = person(\"Arafath\")\n",
    "person.info() #its user friendly"
   ]
  },
  {
   "cell_type": "markdown",
   "id": "23da9c32-caa8-4fad-b24a-7915a284669e",
   "metadata": {},
   "source": [
    "private access modifier"
   ]
  },
  {
   "cell_type": "code",
   "execution_count": 27,
   "id": "9ef5b296-16f3-4075-a737-cdb3c9ff1ca3",
   "metadata": {},
   "outputs": [],
   "source": [
    "#have _ single underscore and its a warning sign for developers not to directly use it outside the class\n",
    "class person:\n",
    "    def __init__(self,name):\n",
    "        self.name = name\n",
    "    def _info(self):\n",
    "        print(f\" my name is {self.name}\")"
   ]
  },
  {
   "cell_type": "code",
   "execution_count": 28,
   "id": "8bef8321-361f-453f-ac21-09e0a789d8b7",
   "metadata": {},
   "outputs": [
    {
     "name": "stdout",
     "output_type": "stream",
     "text": [
      " my name is Arafath\n"
     ]
    }
   ],
   "source": [
    "person = person(\"Arafath\")\n",
    "try:\n",
    "    person._info() #its not totally protected . we can use it inside the class and it is a general warning\n",
    "except:\n",
    "    print(\"private access modifier is like a warning sign for developers\")\n"
   ]
  },
  {
   "cell_type": "markdown",
   "id": "9dd4c56a-27b4-4285-aca2-e608cfb71630",
   "metadata": {},
   "source": [
    "5. What is the purpose of the \"super\" keyword in inheritance? Provide an example."
   ]
  },
  {
   "cell_type": "code",
   "execution_count": 29,
   "id": "895e6163-1052-448a-9e4c-0c46be23365e",
   "metadata": {},
   "outputs": [],
   "source": [
    "class person:\n",
    "    def __init__(self,name):\n",
    "        self.name =name\n",
    "    def info(self):\n",
    "        pass\n",
    "class age(person):\n",
    "    def __init__(self,name,age):\n",
    "        super().__init__(name)\n",
    "        self.age = age\n",
    "    def info(self):\n",
    "        print(f\"we can access the other class using super. the name is {self.name} and the age is {self.age} this is why we use super keyword\")\n"
   ]
  },
  {
   "cell_type": "code",
   "execution_count": 30,
   "id": "c0607c92-3d94-42ff-8bc7-907b36503d43",
   "metadata": {},
   "outputs": [
    {
     "name": "stdout",
     "output_type": "stream",
     "text": [
      "we can access the other class using super. the name is Arafath and the age is 24 this is why we use super keyword\n"
     ]
    }
   ],
   "source": [
    "person = age(\"Arafath\",24)\n",
    "person.info()"
   ]
  },
  {
   "cell_type": "markdown",
   "id": "817b0371-1c3a-4a9b-b59c-bbeac223403c",
   "metadata": {},
   "source": [
    "6. Create a base class called \"Vehicle\" with attributes like \"make\", \"model\", and \"year\". Then, create a derived class called \"Car\" that inherits from \"Vehicle\" and adds an attribute called \"fuel_type\". Implement appropriate methods in both classes."
   ]
  },
  {
   "cell_type": "code",
   "execution_count": 31,
   "id": "3c82195d-fdea-49c1-abb5-adc706f25661",
   "metadata": {},
   "outputs": [],
   "source": [
    "class vehicle:\n",
    "    def __init__(self,make,model,year):\n",
    "        self.make = make\n",
    "        self.model = model\n",
    "        self.year = year\n",
    "    def info(self):\n",
    "        print(f\"make = {self.make},model = {self.model},year = {self.year}\")\n",
    "class car(vehicle):\n",
    "    def __init__(self,make,model,year,fuel_type):\n",
    "        super().__init__(make,model,year)\n",
    "        self.fuel_type = fuel_type\n",
    "    def info(self):\n",
    "        print(f\"make = {self.make},model = {self.model},year = {self.year},fuel = {self.fuel_type}\")\n"
   ]
  },
  {
   "cell_type": "code",
   "execution_count": 32,
   "id": "a4f9059e-b080-422b-b162-c41d8f29f2fe",
   "metadata": {},
   "outputs": [],
   "source": [
    "car = car(\"LAMBORGINI\",\"GALLARDO\",2008,\"PETROL\")"
   ]
  },
  {
   "cell_type": "code",
   "execution_count": 33,
   "id": "614978f9-e624-430d-8e96-636666764fcc",
   "metadata": {},
   "outputs": [
    {
     "name": "stdout",
     "output_type": "stream",
     "text": [
      "make = LAMBORGINI,model = GALLARDO,year = 2008,fuel = PETROL\n"
     ]
    }
   ],
   "source": [
    "car.info()"
   ]
  },
  {
   "cell_type": "markdown",
   "id": "911f11b8-b628-42ee-8034-c10e04c11e44",
   "metadata": {},
   "source": [
    "7. Create a base class called \"Employee\" with attributes like \"name\" and \"salary.\"\n",
    "Derive two classes, \"Manager\" and \"Developer,\" from \"Employee.\" Add an additional attribute called \"department\" for the \"Manager\" class and \"programming_language\" for the \"Developer\" class.\n"
   ]
  },
  {
   "cell_type": "code",
   "execution_count": 34,
   "id": "5b219863-3524-45bf-9657-f07923a012b8",
   "metadata": {},
   "outputs": [],
   "source": [
    "class Employee:\n",
    "    def __init__(self,name,salary):\n",
    "        self.name = name\n",
    "        self.salary = salary\n",
    "class Manager(Employee):\n",
    "    def __init__(self,name,salary,department):\n",
    "        super().__init__(name,salary)\n",
    "        self.department = department\n",
    "    def info(self):\n",
    "        print(f\"{self.name} is a manager of {self.department} department with the salary of {self.salary}. \")\n",
    "class Developer(Employee):\n",
    "    def __init__(self,name,salary,programming_language):\n",
    "        super().__init__(name,salary)\n",
    "        self.programming_language = programming_language\n",
    "    def info(self):\n",
    "        print(f\"{self.name} is a {self.programming_language} developer and his salary is {self.salary}.\")"
   ]
  },
  {
   "cell_type": "code",
   "execution_count": 37,
   "id": "395e18e5-19e6-4098-8f4b-b405f6ac3cc7",
   "metadata": {},
   "outputs": [],
   "source": [
    "info1 = Developer(\"Arafath\",\"24LPA\",\"python\")"
   ]
  },
  {
   "cell_type": "code",
   "execution_count": 38,
   "id": "a15684fa-314b-4e64-9866-f5ef7de07cd6",
   "metadata": {},
   "outputs": [
    {
     "name": "stdout",
     "output_type": "stream",
     "text": [
      "Arafath is a python developer and his salary is 24LPA.\n"
     ]
    }
   ],
   "source": [
    "info1.info()"
   ]
  },
  {
   "cell_type": "code",
   "execution_count": 39,
   "id": "fb1e052f-29ed-4744-ae78-92c5c92bf6ca",
   "metadata": {},
   "outputs": [],
   "source": [
    "man = Manager(\"Arafath\",\"55LPA\",\"financial\")"
   ]
  },
  {
   "cell_type": "code",
   "execution_count": 40,
   "id": "6f269010-c0cb-43a1-a76a-f4105dc53613",
   "metadata": {},
   "outputs": [
    {
     "name": "stdout",
     "output_type": "stream",
     "text": [
      "Arafath is a manager of financial department with the salary of 55LPA. \n"
     ]
    }
   ],
   "source": [
    "man.info()"
   ]
  },
  {
   "cell_type": "markdown",
   "id": "9ee50275-60b6-49cb-9c93-c29e75d233a3",
   "metadata": {},
   "source": [
    "8. Design a base class called \"Shape\" with attributes like \"colour\" and \"border_width.\" Create derived classes, \"Rectangle\" and \"Circle,\" that inherit from \"Shape\" and add specific attributes like \"length\" and \"width\" for the \"Rectangle\" class and \"radius\" for the \"Circle\" class.\n"
   ]
  },
  {
   "cell_type": "code",
   "execution_count": 41,
   "id": "f828db88-486c-4fb5-8112-50d75a92caec",
   "metadata": {},
   "outputs": [],
   "source": [
    "class Shape:\n",
    "    def __init__(self,colour,border_width):\n",
    "        self.colour = colour\n",
    "        self.border_w = border_width\n",
    "    def info(self):\n",
    "        pass\n",
    "class rectangle(Shape):\n",
    "    def __init__(self,colour,border_width,length,width):\n",
    "        super().__init__(colour,border_width)\n",
    "        self.length = length\n",
    "        self.width = width\n",
    "    def info(self):\n",
    "        print(f\"colour = {self.colour} , border_width = {self.border_w} , length = {self.length} width = {self.width}\")\n",
    "class circle(Shape):\n",
    "    def __init__(self,colour,border_width,radius):\n",
    "        super().__init__(colour,border_width)\n",
    "        self.radius = radius\n",
    "    def info(self):\n",
    "        print(f\"colour = {self.colour} , border_width = {self.border_w} , radius = {self.radius}\")\n"
   ]
  },
  {
   "cell_type": "code",
   "execution_count": 42,
   "id": "1161feb6-ec6d-4ca9-8bac-9d60485b630c",
   "metadata": {},
   "outputs": [],
   "source": [
    "REC= rectangle(\"red\",\"1.2inch\",\"4cm\",\"4cm\")"
   ]
  },
  {
   "cell_type": "code",
   "execution_count": 43,
   "id": "48e6e0cc-9804-4b5f-bfb1-7fdc8dfcb313",
   "metadata": {},
   "outputs": [
    {
     "name": "stdout",
     "output_type": "stream",
     "text": [
      "colour = red , border_width = 1.2inch , length = 4cm width = 4cm\n"
     ]
    }
   ],
   "source": [
    "REC.info()"
   ]
  },
  {
   "cell_type": "code",
   "execution_count": 44,
   "id": "59285ae6-cbda-4f69-8e84-e5ba292d9063",
   "metadata": {},
   "outputs": [],
   "source": [
    "cir = circle(\"blue\",\"2.2inch\",\"25cm\")"
   ]
  },
  {
   "cell_type": "code",
   "execution_count": 45,
   "id": "b29f73b5-3918-4a8b-b664-ad5f04196613",
   "metadata": {},
   "outputs": [
    {
     "name": "stdout",
     "output_type": "stream",
     "text": [
      "colour = blue , border_width = 2.2inch , radius = 25cm\n"
     ]
    }
   ],
   "source": [
    "cir.info()"
   ]
  },
  {
   "cell_type": "markdown",
   "id": "e2afd8da-3736-44e3-8db6-9934f21d7839",
   "metadata": {},
   "source": [
    "9. Create a base class called \"Device\" with attributes like \"brand\" and \"model.\" Derive two classes, \"Phone\" and \"Tablet,\" from \"Device.\" Add specific attributes like\"screen_size\" for the \"Phone\" class and \"battery_capacity\" for the \"Tablet\" class.\n"
   ]
  },
  {
   "cell_type": "code",
   "execution_count": 46,
   "id": "95cc9798-6da5-4943-92d6-18c60f4c47bd",
   "metadata": {},
   "outputs": [],
   "source": [
    "class Device:\n",
    "    def __init__(self,brand,model):\n",
    "        self.brand = brand\n",
    "        self.model = model\n",
    "class Phone(Device):\n",
    "    def __init__(self,brand,model,screen_size):\n",
    "        super().__init__(brand,model)\n",
    "        self.ss = screen_size\n",
    "    def info(self):\n",
    "        print(f\" The {self.brand} {self.model} has {self.ss} screen size\")\n",
    "class Tablet(Device):\n",
    "    def __init__(self,brand,model,battery_capacity):\n",
    "        super().__init__(brand,model)\n",
    "        self.bc = battery_capacity\n",
    "    def info(self):\n",
    "        print(f\" The {self.brand} {self.model} has {self.bc} battery life\")"
   ]
  },
  {
   "cell_type": "code",
   "execution_count": 47,
   "id": "4d14dd3f-eff2-4064-bff5-781b4745b11b",
   "metadata": {},
   "outputs": [],
   "source": [
    "ph = Phone(\"apple iphone\",\"15 pro max\",\"5.5inchs\")"
   ]
  },
  {
   "cell_type": "code",
   "execution_count": 48,
   "id": "db376d12-a451-4ab5-9941-47f5ef81662e",
   "metadata": {},
   "outputs": [
    {
     "name": "stdout",
     "output_type": "stream",
     "text": [
      " The apple iphone 15 pro max has 5.5inchs screen size\n"
     ]
    }
   ],
   "source": [
    "ph.info()"
   ]
  },
  {
   "cell_type": "code",
   "execution_count": 49,
   "id": "d5630566-74e3-4e01-927d-074d0403ba80",
   "metadata": {},
   "outputs": [],
   "source": [
    "tb = Tablet(\"blackberry\",\"x5\",'98%')"
   ]
  },
  {
   "cell_type": "code",
   "execution_count": 51,
   "id": "a7d457b0-def4-4245-9a2f-5c074705a097",
   "metadata": {},
   "outputs": [
    {
     "name": "stdout",
     "output_type": "stream",
     "text": [
      " The blackberry x5 has 98% battery life\n"
     ]
    }
   ],
   "source": [
    "tb.info()"
   ]
  },
  {
   "cell_type": "markdown",
   "id": "74423e85-2fb0-4e44-a6a6-387cc06aa3df",
   "metadata": {},
   "source": [
    "10. Create a base class called \"BankAccount\" with attributes like \"account_number\" and \"balance.\" Derive two classes, \"SavingsAccount\" and \"CheckingAccount,\" from \"BankAccount.\" Add specific methods like \"calculate_interest\" for the \"SavingsAccount\" class and \"deduct_fees\" for the \"CheckingAccount\" class.\n"
   ]
  },
  {
   "cell_type": "code",
   "execution_count": 54,
   "id": "abe4a058-91d4-47fa-bcc9-b93d14286bcd",
   "metadata": {},
   "outputs": [],
   "source": [
    "class BankAccount:\n",
    "    def __init__(self,account_no,balance):\n",
    "        self.acc_no = account_no\n",
    "        self.bal = balance\n",
    "    def withdraw(self,amount):\n",
    "        if amount <= self.bal:\n",
    "            self.bal -= amount\n",
    "            print(f\"${amount} successfully debited\")\n",
    "        else:\n",
    "            print(\"insufficient $money$. check available balance\")\n",
    "    def deposit(self,amount):\n",
    "        self.bal += amount\n",
    "    def check_balance(self):\n",
    "        print(f\" now your available balance = {self.bal}\")\n",
    "class SavingAccount(BankAccount):\n",
    "    def __init__(self,account_no,balance):\n",
    "        super().__init__(account_no,balance)\n",
    "    def calculate_interest(self):\n",
    "        interest = self.bal*0.2\n",
    "        self.bal += interest\n",
    "        print(f\"we have added a interest of 0.2% as per the guidance of our bank. your interest is ${interest}\")\n",
    "    def check_balance(self):  \n",
    "        print(f\" now your available balance = {self.bal}\")\n",
    "class CheckingAccount(BankAccount):\n",
    "    def __init__(self,account_no,balance):\n",
    "        super().__init__(account_no,balance)\n",
    "    def deduct_fees(self):\n",
    "        fees = self.bal*0.19\n",
    "        self.bal -= fees\n",
    "        print(f\"we have deducted the amount of ${fees} as per the guidance of the bank\")\n",
    "    def check_balance(self):  \n",
    "        print(f\" now your available balance = {self.bal}\")"
   ]
  },
  {
   "cell_type": "code",
   "execution_count": 64,
   "id": "b37e6ae4-1b2b-4dab-be1c-fce0664be124",
   "metadata": {},
   "outputs": [],
   "source": [
    "sa = SavingAccount(9345545898,5000)"
   ]
  },
  {
   "cell_type": "code",
   "execution_count": 66,
   "id": "260240ed-1237-43f6-b0b0-647afacda292",
   "metadata": {},
   "outputs": [
    {
     "name": "stdout",
     "output_type": "stream",
     "text": [
      "we have added a interest of 0.2% as per the guidance of our bank. your interest is $1200.0\n"
     ]
    }
   ],
   "source": [
    "sa.calculate_interest()"
   ]
  },
  {
   "cell_type": "code",
   "execution_count": 67,
   "id": "f96f2402-95b0-4f05-a6ef-eaa8a80374b8",
   "metadata": {},
   "outputs": [
    {
     "name": "stdout",
     "output_type": "stream",
     "text": [
      " now your available balance = 7200.0\n"
     ]
    }
   ],
   "source": [
    "sa.check_balance()"
   ]
  },
  {
   "cell_type": "code",
   "execution_count": 74,
   "id": "1a2a44a0-66be-41ae-8873-44326dcf59c9",
   "metadata": {},
   "outputs": [],
   "source": [
    "ba = BankAccount(12,7000)"
   ]
  },
  {
   "cell_type": "code",
   "execution_count": 75,
   "id": "0ded9e36-36ad-45eb-a517-fbdb6ed31fb6",
   "metadata": {},
   "outputs": [],
   "source": [
    "ba.deposit(25000)"
   ]
  },
  {
   "cell_type": "code",
   "execution_count": 76,
   "id": "ff6a3b85-3eb3-4d06-a5f6-d2a28fa7342b",
   "metadata": {},
   "outputs": [
    {
     "name": "stdout",
     "output_type": "stream",
     "text": [
      " now your available balance = 32000\n"
     ]
    }
   ],
   "source": [
    "ba.check_balance()"
   ]
  },
  {
   "cell_type": "code",
   "execution_count": 77,
   "id": "bc1bbde9-3de5-49d7-8530-6c7547c1b4c4",
   "metadata": {},
   "outputs": [],
   "source": [
    "ca = CheckingAccount(75,40000)"
   ]
  },
  {
   "cell_type": "code",
   "execution_count": 78,
   "id": "16d2812d-a6bf-42ff-ad4a-499634f3c162",
   "metadata": {},
   "outputs": [
    {
     "name": "stdout",
     "output_type": "stream",
     "text": [
      " now your available balance = 40000\n"
     ]
    }
   ],
   "source": [
    "ca.check_balance()"
   ]
  },
  {
   "cell_type": "code",
   "execution_count": 79,
   "id": "b0d0d6a8-0965-4d87-afb2-d37ed74ab835",
   "metadata": {},
   "outputs": [
    {
     "name": "stdout",
     "output_type": "stream",
     "text": [
      "we have deducted the amount of $7600.0 as per the guidance of the bank\n"
     ]
    }
   ],
   "source": [
    "ca.deduct_fees()"
   ]
  },
  {
   "cell_type": "code",
   "execution_count": null,
   "id": "2dd11963-f0a1-45d8-b56e-3f07da261505",
   "metadata": {},
   "outputs": [],
   "source": []
  }
 ],
 "metadata": {
  "kernelspec": {
   "display_name": "Python 3 (ipykernel)",
   "language": "python",
   "name": "python3"
  },
  "language_info": {
   "codemirror_mode": {
    "name": "ipython",
    "version": 3
   },
   "file_extension": ".py",
   "mimetype": "text/x-python",
   "name": "python",
   "nbconvert_exporter": "python",
   "pygments_lexer": "ipython3",
   "version": "3.10.6"
  }
 },
 "nbformat": 4,
 "nbformat_minor": 5
}
