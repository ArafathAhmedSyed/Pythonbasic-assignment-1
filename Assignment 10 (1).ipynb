{
 "cells": [
  {
   "cell_type": "markdown",
   "id": "8d4329a0-e10a-4e2e-bb54-9e9fcda13dfe",
   "metadata": {},
   "source": [
    "Assignment 10"
   ]
  },
  {
   "cell_type": "markdown",
   "id": "4773d693-951c-4822-8abf-ea0e74a18b24",
   "metadata": {},
   "source": [
    "1. What is the role of try block and exception block?\n",
    "Ans:\n",
    "   1. In Python, errors and exceptions can occur at runtime due to a variety of reasons, such as invalid input, network errors, file system errors, and so on. When such errors occur, they can cause the program to crash or behave unpredictably, which is not desirable. This is where Try Except comes in.\n",
    "   2. Try-except is a construct in Python that allows you to catch and handle exceptions that occur during the execution of your program. By wrapping potentially error-prone code in a try block, you can catch and handle any exceptions that occur in a graceful and controlled manner, instead of allowing them to propagate and cause your program to crash.\n",
    "     i) Error handling: catch and handle exceptions in a controlled way, preventing your program from crashing and providing a more user-friendly experience for your users\n",
    "    ii) Robustness: make your programs more resilient to errors by handling exceptions gracefully\n",
    "    iii) Debugging: provide more detailed and helpful error messages that aid in debugging and troubleshooting\n",
    "    iv) Testing: Intentionally trigger exceptions in your code to test and ensure that it behaves as expected under different error conditions\n"
   ]
  },
  {
   "cell_type": "markdown",
   "id": "ada3eb24-a268-4729-9b0d-26767d7b34a3",
   "metadata": {},
   "source": [
    "Syntax of Try-Except Block:\n",
    "\n",
    "                            try:\n",
    "                                    # There can be errors in this block\n",
    "                            except <error type>:\n",
    "                                    # Do this to handle exception;\n",
    "                                    # executed if the try block throws an error\n",
    "                            else:\n",
    "                                    # Do this if try block executes successfully without errors\n",
    "                            finally:\n",
    "                                    # This block is always executed\n"
   ]
  },
  {
   "cell_type": "markdown",
   "id": "467c3cd1-2e69-49f6-bb31-e18a6bfe72df",
   "metadata": {},
   "source": [
    "a)The try block is the block of statements you'd like to try executing. However, there may be runtime errors due to an exception, and this block may fail to work as intended.\n",
    "\n",
    "b)The except block is triggered when the try block fails due to an exception. It contains a set of statements that often give you some context on what went wrong inside the try block.\n",
    "\n",
    "c)You should always mention the type of error that you intend to catch as exception inside the except block, denoted by the placeholder error type in the above snippet.\n",
    "\n",
    "d)You might as well use except without specifying the error type. But, this is not a recommended practice as you're not accounting for the different types of errors that can occur."
   ]
  },
  {
   "cell_type": "markdown",
   "id": "9c5042a9-dcf3-4122-9c27-d3d1eedfe211",
   "metadata": {},
   "source": [
    "2. What is the syntax for a basic try-except block?\n",
    "Ans:\n",
    "\n",
    "The basic syntax of Try-except block is as below,\n",
    "                            try:\n",
    "                                    # There can be errors in this block\n",
    "                            except <error type>:\n",
    "                                    # Do this to handle exception;\n",
    "                                    # executed if the try block throws an error\n",
    "                            else:\n",
    "                                    # Do this if try block executes successfully without errors\n",
    "                            finally:\n",
    "                                    # This block is always executed"
   ]
  },
  {
   "cell_type": "markdown",
   "id": "6baae384-c327-4b1a-bdcc-ec668a099159",
   "metadata": {},
   "source": [
    "3. What happens if an exception occurs inside a try block and there is no matching except block?\n",
    "Ans:\n",
    "    a)If an exception occurs during execution of the try clause, the rest of the clause is skipped. Then, if its type matches the exception named after the except keyword, the except clause is executed, and then execution continues after the try/except block.\n",
    "    b)If an exception occurs which does not match the exception named in the except clause, it is passed on to outer try statements; if no handler is found, it is an unhandled exception and execution stops with a message as shown above"
   ]
  },
  {
   "cell_type": "markdown",
   "id": "c666484d-4438-4d80-9b71-09718d6ace22",
   "metadata": {},
   "source": [
    "4. What is the difference between using a bare except block and specifying a specific exception type?\n",
    "Ans:\n",
    "\n",
    "Bare Except Block:\n",
    "\n",
    "       a) A bare except clause will catch SystemExit and KeyboardInterrupt exceptions, making it harder to interrupt a program with Control-C, and can disguise other problems.\n",
    "       b)If you want to catch all exceptions that signal program errors, use except Exception: (bare except is equivalent to except BaseException:).\n",
    "       c)The use of bare except catches all exceptions indiscriminately – even the ones that you didn't expect and can crash your program (e.g. SystemExit or KeyboardInterrupt.\n",
    "Example: The following code has a bare except: clause"
   ]
  },
  {
   "cell_type": "code",
   "execution_count": null,
   "id": "0776b1f8-63b2-4283-b410-d7789152202c",
   "metadata": {},
   "outputs": [],
   "source": [
    "try:\n",
    "    user = User.objects.get(pk=user_id)\n",
    "    user.send_mail('Hello world')\n",
    "except:\n",
    "    logger.error('An error occurred!')"
   ]
  },
  {
   "cell_type": "markdown",
   "id": "6cf8dc15-a4cd-4f23-abf9-21d60a63cff1",
   "metadata": {},
   "source": [
    "Specific Exception Block:\n",
    "\n",
    "        a)Catching every exception could cause our application to fail without us really knowing why. This is a horrible idea as it makes our code harder to maintain as bugs can be hidden behind an unspecific exception handler.\n",
    "        b)Instead of catching all exceptions with bare except, catch only the specific exceptions you expect to occur. Using our example above, we can introduce FileTypeError and UserPermissionError just to name a few.\n",
    "        c)This way, you can handle the problems you know about, and let all the other exceptions bubble up to a higher-level error-handling mechanism.\n",
    "Example:"
   ]
  },
  {
   "cell_type": "code",
   "execution_count": null,
   "id": "6de69bca-d941-422f-b98c-f9429a0cbb15",
   "metadata": {},
   "outputs": [],
   "source": [
    "try:\n",
    "    user = User.objects.get(pk=user_id)\n",
    "    user.send_mail('Hello world')\n",
    "except User.DoesNotExist:\n",
    "    logger.error('The user does not exist with that ID')"
   ]
  },
  {
   "cell_type": "markdown",
   "id": "d986d3d2-408f-4b84-9e40-779f8db48d18",
   "metadata": {},
   "source": [
    "5. Can you have nested try-except blocks in Python? If yes, then give an example.\n",
    "Ans:\n",
    "\n",
    "      a) In python nested try except finally blocks are allowed. We can take try-except-finally blocks inside try block. We can take try-except-finally blocks inside except block. We can take try-except-finally blocks inside finally block.\n",
    "      b) In this case, if an exception is raised in the nested try block, the nested except block is used to handle it. In case the nested except is not able to handle it, the outer except blocks are used to handle the exception.\n",
    "Example:"
   ]
  },
  {
   "cell_type": "code",
   "execution_count": 2,
   "id": "2cb64bc7-29db-4091-b72c-5d23e4fd9004",
   "metadata": {},
   "outputs": [
    {
     "name": "stdout",
     "output_type": "stream",
     "text": [
      "OUTER TRY BLOCK\n",
      "INNER TRY BLOCK\n",
      "OUTER EXCEPT BLOCK\n",
      "division by zero\n"
     ]
    }
   ],
   "source": [
    "# Exaplianation on try-except block\n",
    "\n",
    "x = 10\n",
    "y = 0\n",
    " \n",
    "try:\n",
    "    print(\"OUTER TRY BLOCK\")\n",
    "    try:\n",
    "        print(\"INNER TRY BLOCK\")\n",
    "        print(x / y)\n",
    "    except TypeError as te:\n",
    "        print(\"INNER EXCEPT BLOCK\")\n",
    "        print(te)\n",
    "except ZeroDivisionError as ze:\n",
    "    print(\"OUTER EXCEPT BLOCK\")\n",
    "    print(zero)"
   ]
  },
  {
   "cell_type": "markdown",
   "id": "077b24cf-071a-43b0-a4be-8d144849fe92",
   "metadata": {},
   "source": [
    "6. Can we use multiple exception blocks, if yes then give an example.\n",
    "Ans: Yes, we can catch multiple exceptions in separate except blocks. The try block can have multiple except blocks, each handling a different type of exception.\n",
    "The interpreter will execute the first except block whose exception matches the exception that was raised. If no matching except block is found, the interpreter will continue searching for an exception handler in the calling function or script.\n",
    "Example:"
   ]
  },
  {
   "cell_type": "code",
   "execution_count": 3,
   "id": "b0ce67b5-7589-45f1-8b06-5014c53cde8a",
   "metadata": {},
   "outputs": [
    {
     "name": "stdout",
     "output_type": "stream",
     "text": [
      "Type error occurs\n"
     ]
    }
   ],
   "source": [
    "# Python catch multiple exceptions\n",
    "try:\n",
    "    # defining variables\n",
    "    a = 10\n",
    "    b= 0\n",
    "    c = \"abc\"\n",
    "    # adding the variables\n",
    "    d =a+c\n",
    "\n",
    "except ZeroDivisionError:                            # Zerodivision ZeroDivisionError\n",
    "    print(\"Zero Division Error occurs\")      # printing error\n",
    "\n",
    "except IndexError:                                          # index IndexError\n",
    "    print(\"Index error occurs\")                      # printing error\n",
    "\n",
    "except TypeError:                                           # type error\n",
    "    print(\"Type error occurs\")                      # printing TypeError"
   ]
  },
  {
   "cell_type": "markdown",
   "id": "d83ab93a-a4a3-471e-87c9-237ffeed2078",
   "metadata": {},
   "source": [
    "7. Write the reason due to which following errors are raised:\n",
    "        a. EOFError\n",
    "        b. FloatingPointError\n",
    "        c. IndexError\n",
    "        d. MemoryError\n",
    "        e. OverflowError\n",
    "        f. TabError\n",
    "        g. ValueError\n",
    "Ans:\n",
    "\n",
    "a) EOFError: EOFError is raised when the input() function hits the condition of end-of-file.\n",
    "b) FloatingPointError: FloatingPointError is raised when a floating-point operation fails.\n",
    "c) IndexError: As the name suggests, the IndexError is raised when the wrong index of a list is used.\n",
    "d) MemoryError: MemoryError is raised when a program runs out of memory.\n",
    "e) OverflowError: OverflowError is raised when the result of an arithmetic operation is too large.\n",
    "f) TabError: TabError is raised when interpreter detects internal error.\n",
    "g) ValueError: ValueError is raised when a function is given the correct type of argument but with an improper value."
   ]
  },
  {
   "cell_type": "markdown",
   "id": "ae17eaca-0775-4d2b-b3ba-3e6c4fda0991",
   "metadata": {},
   "source": [
    "8. Write code for the following given scenario and add try-exception block to it.\n",
    "        a. Program to divide two numbers\n",
    "        b. Program to convert a string to an integer\n",
    "        c. Program to access an element in a list\n",
    "        d. Program to handle a specific exception\n",
    "        e. Program to handle any exception\n",
    "Ans:\n",
    "\n",
    "a. Program to divide two "
   ]
  },
  {
   "cell_type": "code",
   "execution_count": 4,
   "id": "176418ca-09cd-4840-a7e7-44801e7fbefa",
   "metadata": {},
   "outputs": [
    {
     "name": "stdin",
     "output_type": "stream",
     "text": [
      "Enter First Number:  2\n",
      "Enter Second Number:  0\n"
     ]
    },
    {
     "name": "stdout",
     "output_type": "stream",
     "text": [
      "\tError Message : division by zero\n"
     ]
    }
   ],
   "source": [
    "# Program to divide two numbers\n",
    "\n",
    "try:\n",
    "    num1 = int(input(\"Enter First Number: \"))\n",
    "    num2 = int(input(\"Enter Second Number: \"))\n",
    "\n",
    "    result = num1 / num2\n",
    "\n",
    "    print(result)\n",
    "except ValueError as e:\n",
    "    print(\"Please enter th valid integer number.\")\n",
    "except ZeroDivisionError as msg:\n",
    "    print(f\"\\tError Message : {msg}\")"
   ]
  },
  {
   "cell_type": "markdown",
   "id": "2232efbe-c2de-4794-9b22-3b16f26b44fa",
   "metadata": {},
   "source": [
    "b. Program to convert a string to an integer"
   ]
  },
  {
   "cell_type": "code",
   "execution_count": 6,
   "id": "9b534a9f-6845-44eb-9d82-e0fff7ce8713",
   "metadata": {},
   "outputs": [
    {
     "name": "stdout",
     "output_type": "stream",
     "text": [
      "7\n"
     ]
    }
   ],
   "source": [
    "string_num = \"7\"\n",
    "\n",
    "try:\n",
    "    int_num = int(string_num)\n",
    "    print(int_num)\n",
    "except ValueError:\n",
    "    print(\"Catch Error\")"
   ]
  },
  {
   "cell_type": "markdown",
   "id": "adbb0d45-a0e0-4f65-bcce-308c3973c767",
   "metadata": {},
   "source": [
    "c. Program to access an element in a list"
   ]
  },
  {
   "cell_type": "code",
   "execution_count": 7,
   "id": "bc3384c0-622e-4614-a39d-30bd1d3d3dd1",
   "metadata": {},
   "outputs": [
    {
     "name": "stdout",
     "output_type": "stream",
     "text": [
      "The `0` th index  element of a given list is :  a\n",
      "The `1` th index  element of a given list is :  b\n",
      "The `2` th index  element of a given list is :  c\n",
      "The `3` th index  element of a given list is :  d\n",
      "The `4` th index  element of a given list is :  e\n"
     ]
    }
   ],
   "source": [
    "a = [\"a\", \"b\", \"c\", \"d\", \"e\"]  \n",
    "try:  \n",
    "    #looping through the elements of the array a, choosing a range that goes beyond the length of the array  \n",
    "     for i in range( 5 ):  \n",
    "        print( f\"The `{i}` th index  element of a given list is :  {a[i]}\" )  \n",
    "#if an error occurs in the try block, then except block will be executed by the Python interpreter       \n",
    "except:  \n",
    "    print (\"Index out of range\") "
   ]
  },
  {
   "cell_type": "markdown",
   "id": "b2d30f0c-4106-4b08-9bd8-c91e9a86a19d",
   "metadata": {},
   "source": [
    "d. Program to handle a specific exception"
   ]
  },
  {
   "cell_type": "code",
   "execution_count": 8,
   "id": "15946739-49ba-4fae-9c7d-94d3a60d2954",
   "metadata": {},
   "outputs": [
    {
     "name": "stdin",
     "output_type": "stream",
     "text": [
      "Enter your age:  23\n"
     ]
    },
    {
     "name": "stdout",
     "output_type": "stream",
     "text": [
      "Congratulations! Your account has been successfully created in ineuron.com\n"
     ]
    }
   ],
   "source": [
    "# Handling specific exception\n",
    "\n",
    "try:\n",
    "    age = int(input('Enter your age: '))\n",
    "except ValueError:\n",
    "    print('Please enter the valid age.')\n",
    "else:\n",
    "    if age >= 18 &  age <= 99:\n",
    "        print('Congratulations! Your account has been successfully created in ineuron.com')\n",
    "    else:\n",
    "        print('Sorry ! You are not eligible to register in ineuron.com')"
   ]
  },
  {
   "cell_type": "markdown",
   "id": "c507c1b0-0cbf-4672-beb1-d2437ccc735d",
   "metadata": {},
   "source": [
    "e. Program to handle any exception"
   ]
  },
  {
   "cell_type": "code",
   "execution_count": 11,
   "id": "4a9d2fea-24d5-41f7-89d8-a017200372fd",
   "metadata": {},
   "outputs": [
    {
     "name": "stdout",
     "output_type": "stream",
     "text": [
      "Index Out of Bound.\n"
     ]
    }
   ],
   "source": [
    "try:\n",
    "    even_numbers = [1,2,4,6,8,10]\n",
    "    print(even_numbers[7])\n",
    "\n",
    "except ZeroDivisionError:\n",
    "    print(\"Denominator cannot be 0.\")\n",
    "    \n",
    "except IndexError:\n",
    "    print(\"Index Out of Bound.\")"
   ]
  },
  {
   "cell_type": "code",
   "execution_count": null,
   "id": "dc04fac0-3c37-4bec-97c2-062a1d22c19b",
   "metadata": {},
   "outputs": [],
   "source": []
  }
 ],
 "metadata": {
  "kernelspec": {
   "display_name": "Python 3 (ipykernel)",
   "language": "python",
   "name": "python3"
  },
  "language_info": {
   "codemirror_mode": {
    "name": "ipython",
    "version": 3
   },
   "file_extension": ".py",
   "mimetype": "text/x-python",
   "name": "python",
   "nbconvert_exporter": "python",
   "pygments_lexer": "ipython3",
   "version": "3.10.6"
  }
 },
 "nbformat": 4,
 "nbformat_minor": 5
}
