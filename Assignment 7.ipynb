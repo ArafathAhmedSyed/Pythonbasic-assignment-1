{
 "cells": [
  {
   "cell_type": "raw",
   "id": "9df7424a-b115-4628-be86-70344b83702a",
   "metadata": {},
   "source": [
    "21 May\n",
    "\n",
    "Python Basic - 2"
   ]
  },
  {
   "cell_type": "markdown",
   "id": "29c0de42-a2ec-4190-92b8-169f4ab239a3",
   "metadata": {},
   "source": [
    "Q.1. Create two int type variables, apply addition, subtraction, division and multiplications\n",
    "and store the results in variables. Then print the data in the following format by calling the\n",
    "variables:\n",
    "First variable is __ & second variable is __.\n",
    "Addition: __ + __ = __\n",
    "Subtraction: __ - __ = __\n",
    "Multiplication: __ * __ = __\n",
    "Division: __ / __ = __"
   ]
  },
  {
   "cell_type": "code",
   "execution_count": 1,
   "id": "71e02f9d-7702-4d24-99a6-5b489236c49c",
   "metadata": {},
   "outputs": [
    {
     "name": "stdout",
     "output_type": "stream",
     "text": [
      "First variable is 70 & second variable is 20\n",
      "Addition: 70 + 20 = 90\n",
      "Subtraction: 70 - 20 = 50\n",
      "Multiplication: 70 * 20 = 1400\n",
      "Division: 70 / 20 = 3.5\n"
     ]
    }
   ],
   "source": [
    "#ANS:\n",
    "# Creating two int variables\n",
    "first_variable =70\n",
    "second_variable =20\n",
    "\n",
    "# Performing addition, subtraction, multiplication, and division\n",
    "addition = first_variable + second_variable\n",
    "subtraction = first_variable - second_variable\n",
    "multiplication = first_variable * second_variable\n",
    "division = first_variable / second_variable\n",
    "\n",
    "# Printing the data in the requested format\n",
    "# we have used fstring (f\"requested format {variable}\")\n",
    "print(f\"First variable is {first_variable} & second variable is {second_variable}\")\n",
    "print(f\"Addition: {first_variable} + {second_variable} = {addition}\")\n",
    "print(f\"Subtraction: {first_variable} - {second_variable} = {subtraction}\")\n",
    "print(f\"Multiplication: {first_variable} * {second_variable} = {multiplication}\")\n",
    "print(f\"Division: {first_variable} / {second_variable} = {division}\")"
   ]
  },
  {
   "cell_type": "markdown",
   "id": "1abc3566-d57b-4bab-80f9-655da82d11d4",
   "metadata": {},
   "source": [
    "Q.2. What is the difference between the following operators:\n",
    "(i) ‘/’ & ‘//’\n",
    "(ii) ‘**’ & ‘^’\n",
    "\n",
    "ANS: (i) The ‘/’ operator performs regular division and returns a floating-point result. For example, 9 / 3 would result in 3.0.\n",
    "        where as The ‘//’ operator performs floor division, also known as integer division. It divides the left operand by the right operand and returns the largest integer less than or equal to the result. For example, 10 // 3 would result in 3\n",
    "      (ii) The ‘**’ operator is used for exponentiation. It raises the left operand to the power of the right operand. For example, 2 ** 3 would result in 8.\n",
    "         where as ‘^’ is the bitwise XOR operator.  binary representation of 2 is 010 and the binary representation of 3 is 011, so the XOR operation yields 001, which is 1 in decimal.\n",
    "         \n",
    "         For these the examples are given below"
   ]
  },
  {
   "cell_type": "code",
   "execution_count": 8,
   "id": "a46ac070-275c-49ed-bdf6-7ce74fada875",
   "metadata": {},
   "outputs": [
    {
     "name": "stdout",
     "output_type": "stream",
     "text": [
      "example for ‘/’ operator: 3.0\n",
      "example for ‘//’ operator: 3\n",
      "example for ‘**’ operator: 8\n",
      "example for ‘^’ operator: 1\n"
     ]
    }
   ],
   "source": [
    "#(i) ‘/’ & ‘//’ examples\n",
    "a=9/3\n",
    "print('example for ‘/’ operator:', a)\n",
    "\n",
    "b=9//3\n",
    "print('example for ‘//’ operator:',b)\n",
    "\n",
    "#(ii) ‘**’ & ‘^’ examples\n",
    "print('example for ‘**’ operator:', 2**3)\n",
    "\n",
    "print('example for ‘^’ operator:', 2^3)"
   ]
  },
  {
   "cell_type": "markdown",
   "id": "49faaa54-897e-4500-94a8-2e974d327b41",
   "metadata": {},
   "source": [
    "Q.3. List the logical operators.\n",
    "ANS: There are three logical operators, they are AND, OR, NOT\n",
    "     AND: The 'and' operator returns True if both the operands are True, otherwise it returns False.\n",
    "     OR: The 'or' operator returns True if at least one of the operands is True, otherwise it returns False.\n",
    "     NOT: The 'not' operator is a unary operator that returns the opposite of the operand's logical value.             It returns True if the operand is False, and False if the operand is True."
   ]
  },
  {
   "cell_type": "code",
   "execution_count": 13,
   "id": "8303ca5b-69a9-4c5f-bada-dfd39e24f48c",
   "metadata": {},
   "outputs": [
    {
     "name": "stdout",
     "output_type": "stream",
     "text": [
      "True\n"
     ]
    }
   ],
   "source": [
    "#AND operator\n",
    "print(5 > 3 and 5 == 3 + 2 and 5 != 3) # if all the subexpressions evaluate to True, then you get True. Otherwise, you get False. Especially as expressions get longer, you should keep in mind that Python evaluates the expressions sequentially from left to right."
   ]
  },
  {
   "cell_type": "code",
   "execution_count": 10,
   "id": "cdb13924-9ddd-4cb8-9ec2-45b5751ce5e1",
   "metadata": {},
   "outputs": [
    {
     "name": "stdout",
     "output_type": "stream",
     "text": [
      "2\n"
     ]
    }
   ],
   "source": [
    "#OR operator\n",
    "a=2\n",
    "b=3\n",
    "print(a or b) # the first operands (2 and 3) are true (nonzero), so the Python or operator always returns the first one."
   ]
  },
  {
   "cell_type": "code",
   "execution_count": 11,
   "id": "6af705b0-5a6a-45d2-b39d-a449a0b93cb1",
   "metadata": {},
   "outputs": [
    {
     "name": "stdout",
     "output_type": "stream",
     "text": [
      "True\n"
     ]
    }
   ],
   "source": [
    "#NOT operator\n",
    "print(False==(not True))"
   ]
  },
  {
   "cell_type": "markdown",
   "id": "9045134a-2168-41e7-800d-c80b82c7a020",
   "metadata": {},
   "source": [
    "Q.4. Explain right shift operator and left shift operator with examples."
   ]
  },
  {
   "cell_type": "markdown",
   "id": "426dccee-604a-4b6c-8bc2-05b172cbbb3d",
   "metadata": {},
   "source": [
    "ANS: Right shift operator: The bitwise right shift operator in python shifts the bits of the binary representation of the input number to the right side by a specified number of places. The empty bits created by shifting the bits are filled by 0s.\n",
    "    Suppose we have to shift the bits of 14 by 2 places. We will first convert it into binary format.\n",
    "14 in binary format is written as 1110.\n",
    "After shifting, the two rightmost bits 1 and 0 will be discarded and the empty leftmost bits will be filled with 0s. The output of 14 >> 2 will be 0011 in binary which converts to the value 3 in integer format. "
   ]
  },
  {
   "cell_type": "code",
   "execution_count": 14,
   "id": "c0848f2e-9d9a-43a4-9e08-24895f34513f",
   "metadata": {},
   "outputs": [
    {
     "name": "stdout",
     "output_type": "stream",
     "text": [
      "Operand 1 is: 14\n",
      "operand 2 is: 2\n",
      "Result of the right shift operation on 14 by 2 bits is 3.\n"
     ]
    }
   ],
   "source": [
    "#example for RIGHT SHIFT OPERATOR\n",
    "myNum1 = 14\n",
    "myNum2 = 2\n",
    "shiftNum = myNum1 >> myNum2\n",
    "print(\"Operand 1 is:\", myNum1)\n",
    "print(\"operand 2 is:\", myNum2)\n",
    "print(\"Result of the right shift operation on {} by {} bits is {}.\".format(myNum1, myNum2, shiftNum))"
   ]
  },
  {
   "cell_type": "markdown",
   "id": "b1f7d412-0f3c-4b1d-9cd8-a6ab257338f4",
   "metadata": {},
   "source": [
    "Left shift operator: The bitwise left shift operator in Python shifts the bits of the binary representation of the input number to the left side by a specified number of places. The empty bits created by shifting the bits are filled by 0s.  "
   ]
  },
  {
   "cell_type": "code",
   "execution_count": 15,
   "id": "9658bbf3-75c1-46c3-b6f9-54b35ecb2042",
   "metadata": {},
   "outputs": [
    {
     "name": "stdout",
     "output_type": "stream",
     "text": [
      "Operand 1 is: 14\n",
      "operand 2 is: 2\n",
      "Result of the left shift operation on 14 by 2 bits is 56.\n"
     ]
    }
   ],
   "source": [
    "#example for LEFT SHIFT OPERATOR\n",
    "myNum1 = 14\n",
    "myNum2 = 2\n",
    "shiftNum = myNum1 << myNum2\n",
    "print(\"Operand 1 is:\", myNum1)\n",
    "print(\"operand 2 is:\", myNum2)\n",
    "print(\"Result of the left shift operation on {} by {} bits is {}.\".format(myNum1, myNum2, shiftNum))"
   ]
  },
  {
   "cell_type": "markdown",
   "id": "ec0970a8-3c1d-4cb6-9996-7a4bfab4b605",
   "metadata": {},
   "source": [
    "Q.5. Create a list containing int type data of length 15. Then write a code to check if 10 is\n",
    "present in the list or not."
   ]
  },
  {
   "cell_type": "code",
   "execution_count": 16,
   "id": "160d2653-debd-4393-8eff-6cc69a6e2047",
   "metadata": {},
   "outputs": [
    {
     "name": "stdout",
     "output_type": "stream",
     "text": [
      "10 is present in the list.\n"
     ]
    }
   ],
   "source": [
    "#ANS:\n",
    "list = [2, 4, 8, 10, 15, 20, 25, 30, 35, 40, 45, 50, 55, 60, 65]\n",
    "\n",
    "# Check if 10 is present in the list\n",
    "if 10 in list:\n",
    "    print(\"10 is present in the list.\")\n",
    "else:\n",
    "    print(\"10 is not present in the list.\")"
   ]
  },
  {
   "cell_type": "code",
   "execution_count": null,
   "id": "59d11fb8-15ad-4fd4-8823-e7be88b3ea60",
   "metadata": {},
   "outputs": [],
   "source": []
  }
 ],
 "metadata": {
  "kernelspec": {
   "display_name": "Python 3 (ipykernel)",
   "language": "python",
   "name": "python3"
  },
  "language_info": {
   "codemirror_mode": {
    "name": "ipython",
    "version": 3
   },
   "file_extension": ".py",
   "mimetype": "text/x-python",
   "name": "python",
   "nbconvert_exporter": "python",
   "pygments_lexer": "ipython3",
   "version": "3.10.6"
  }
 },
 "nbformat": 4,
 "nbformat_minor": 5
}
