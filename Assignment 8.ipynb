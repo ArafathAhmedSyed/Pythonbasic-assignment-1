{
 "cells": [
  {
   "cell_type": "markdown",
   "id": "136ce8fd-1b05-40da-8f33-f95a297a7b6d",
   "metadata": {},
   "source": [
    "Python basic assignment 8"
   ]
  },
  {
   "cell_type": "markdown",
   "id": "7e408641-219b-48c7-bb9d-3f17bee2bd4f",
   "metadata": {},
   "source": [
    "1. In Python, what is the difference between a built-in function and a user-defined function? Provide an example of each.\n",
    "\n",
    "ANS: Built-in functions: These are functions that are pre-defined in the Python programming language. They are readily available for use without requiring any additional code or importing external modules. Built-in functions cover a wide range of functionalities and provide core operations for various tasks. Here's an example of a built-in function, len(), which returns the length of an object such as a string, list, or tuple:"
   ]
  },
  {
   "cell_type": "code",
   "execution_count": 1,
   "id": "d94a0e8c-ab6c-4f4a-9ee6-c56c85554fd3",
   "metadata": {},
   "outputs": [
    {
     "name": "stdout",
     "output_type": "stream",
     "text": [
      "13\n"
     ]
    }
   ],
   "source": [
    "my_string = \"Hello, World!\"\n",
    "length = len(my_string)#here len is built in function\n",
    "print(length)  # Output: 13"
   ]
  },
  {
   "cell_type": "markdown",
   "id": "8ec3dc1c-2b02-477e-9d74-7862a4b4cf53",
   "metadata": {},
   "source": [
    "User-defined functions: These are functions created by the user or programmer. They are defined using the def keyword and can be customized to perform specific tasks as needed. User-defined functions allow you to encapsulate a block of code and reuse it multiple times within your program. Definition: User-defined functions are created with the def keyword followed by a function name of your choosing.\n",
    "\n",
    "Parameters: Functions can take parameters, which are values you supply to the function so it can perform a computation with them. These parameters are placed inside parentheses after the function name.\n",
    "\n",
    "Body: After the parameters, you write a colon : and indent the next line to begin the function's body, which contains the statements that will be executed when the function is called.\n",
    "\n",
    "Return: Functions can optionally return a value using the return statement. The value that's returned can be used in other parts of your program. If no return statement is specified, the function will return None.\n",
    "\n",
    "Calling: After defining a function, you can \"call\" it by writing its name followed by parentheses (). If the function takes parameters, you can supply them inside these parentheses."
   ]
  },
  {
   "cell_type": "code",
   "execution_count": 4,
   "id": "223bed8a-d436-455f-8ed2-3624ed8886ad",
   "metadata": {},
   "outputs": [
    {
     "name": "stdout",
     "output_type": "stream",
     "text": [
      "The sum is: 7\n"
     ]
    }
   ],
   "source": [
    "def add_numbers(number_1, number_2):\n",
    "    sum = number_1 + number_2\n",
    "    return sum\n",
    "\n",
    "result = add_numbers(4, 3)\n",
    "print(\"The sum is:\", result)"
   ]
  },
  {
   "cell_type": "markdown",
   "id": "144d0a04-952b-44d9-8633-845c110919d4",
   "metadata": {},
   "source": [
    "2. How can you pass arguments to a function in Python? Explain the difference between positional arguments and keyword arguments.\n",
    "\n",
    "ANS: Positional Arguments: Positional arguments are passed to a function based on their position or order. The function's parameters are matched with the arguments based on their respective positions. The number of arguments and their order must match the number and order of the parameters defined in the function."
   ]
  },
  {
   "cell_type": "code",
   "execution_count": 6,
   "id": "bfad7c20-66de-4bbf-8d74-2cd082c3daf9",
   "metadata": {},
   "outputs": [
    {
     "name": "stdout",
     "output_type": "stream",
     "text": [
      "Hello, Arafath! You are 23 years old.\n"
     ]
    }
   ],
   "source": [
    "def greet(name, age):\n",
    "    print(f\"Hello, {name}! You are {age} years old.\")\n",
    "\n",
    "# Calling the function with positional arguments\n",
    "greet(\"Arafath\", 23)"
   ]
  },
  {
   "cell_type": "markdown",
   "id": "c1eb1eb4-cc31-4e61-9265-73e4eef4a41d",
   "metadata": {},
   "source": [
    "Keyword Arguments: Keyword arguments are passed to a function with a specific keyword or parameter name. Each argument is explicitly assigned to its corresponding parameter using the parameter_name=value syntax. The order of the arguments doesn't matter when using keyword arguments."
   ]
  },
  {
   "cell_type": "code",
   "execution_count": 7,
   "id": "cb05089e-7a2e-486c-a3e9-0314db38461e",
   "metadata": {},
   "outputs": [
    {
     "name": "stdout",
     "output_type": "stream",
     "text": [
      "Hello, Bob! You are 30 years old.\n"
     ]
    }
   ],
   "source": [
    "def greet(name, age):\n",
    "    print(f\"Hello, {name}! You are {age} years old.\")\n",
    "\n",
    "# Calling the function with keyword arguments\n",
    "greet(age=30, name=\"Bob\")"
   ]
  },
  {
   "cell_type": "markdown",
   "id": "3eba4306-ff0f-4658-9760-f14a0ee6b8dc",
   "metadata": {},
   "source": [
    "3. What is the purpose of the return statement in a function? Can a function have multiple return statements? Explain with an example.\n",
    "\n",
    "ANS: The return statement in a function serves the purpose of specifying the value or values that the function should produce as its result. It allows the function to calculate a value or perform a task and then provide the result back to the caller.\n",
    "\n",
    "The return statement accomplishes two main things:\n",
    "\n",
    "1)It terminates the execution of the function, exiting the function at the point where the return statement is encountered. 2)It provides the value or values specified after the return keyword as the output of the function.\n",
    "\n",
    "A function can indeed have multiple return statements. Once a return statement is executed, the function immediately exits, and the specified value is returned. Having multiple return statements allows you to conditionally return different values or perform different actions based on certain conditions within the function."
   ]
  },
  {
   "cell_type": "code",
   "execution_count": 9,
   "id": "d9c396d4-803e-46f2-b8b1-359e6d02220a",
   "metadata": {},
   "outputs": [
    {
     "name": "stdout",
     "output_type": "stream",
     "text": [
      "A\n"
     ]
    }
   ],
   "source": [
    "def get_grade(score):\n",
    "    if score >= 90:\n",
    "        return \"A\"\n",
    "    elif score >= 80:\n",
    "        return \"B\"\n",
    "    elif score >= 70:\n",
    "        return \"C\"\n",
    "    else:\n",
    "        return \"F\"\n",
    "\n",
    "# Calling the function\n",
    "grade = get_grade(95)\n",
    "print(grade)  # Output: \"B\""
   ]
  },
  {
   "cell_type": "markdown",
   "id": "93cc3618-398f-42e1-8feb-dbb826c5ec3f",
   "metadata": {},
   "source": [
    "4. What are lambda functions in Python? How are they different from regular functions? Provide an example where a lambda function can be useful.\n",
    "\n",
    "ANS: They are typically used for one-time, simple operations and are defined using the lambda keyword. Lambda functions are different from regular functions in a few key ways:\n",
    "\n",
    "Syntax: Lambda functions have a compact syntax compared to regular functions. They are defined using the lambda keyword, followed by a list of parameters, a colon :, and the expression to be evaluated.\n",
    "\n",
    "Nameless Functions: Lambda functions don't have a specified name. They are anonymous functions that are often used as inline or throwaway functions.\n",
    "\n",
    "Single Expression: Lambda functions can only consist of a single expression. They can't contain multiple statements or complex logic like regular functions."
   ]
  },
  {
   "cell_type": "code",
   "execution_count": 10,
   "id": "34fe3de9-25a1-41ca-940d-f28277883ddc",
   "metadata": {},
   "outputs": [
    {
     "name": "stdout",
     "output_type": "stream",
     "text": [
      "8\n"
     ]
    }
   ],
   "source": [
    "add_numbers = lambda x, y: x + y\n",
    "\n",
    "# Calling the lambda function\n",
    "result = add_numbers(5, 3)\n",
    "print(result)  # Output: 8"
   ]
  },
  {
   "cell_type": "markdown",
   "id": "fb60aabe-d72c-4a16-9dad-866340edc247",
   "metadata": {},
   "source": [
    "5. How does the concept of \"scope\" apply to functions in Python? Explain the difference between local scope and global scope.\n",
    "\n",
    "ANS: Local Scope: A local scope refers to the region within a function where variables are defined. Variables defined within a function have local scope, meaning they are only accessible within that specific function. They are not accessible outside the function or in other functions unless they are explicitly passed as arguments or returned."
   ]
  },
  {
   "cell_type": "code",
   "execution_count": 11,
   "id": "738f9cb2-441c-4a05-be6d-3a79c3ab149b",
   "metadata": {},
   "outputs": [
    {
     "name": "stdout",
     "output_type": "stream",
     "text": [
      "7\n"
     ]
    },
    {
     "ename": "NameError",
     "evalue": "name 'x' is not defined",
     "output_type": "error",
     "traceback": [
      "\u001b[0;31m---------------------------------------------------------------------------\u001b[0m",
      "\u001b[0;31mNameError\u001b[0m                                 Traceback (most recent call last)",
      "Cell \u001b[0;32mIn [11], line 6\u001b[0m\n\u001b[1;32m      3\u001b[0m     \u001b[38;5;28mprint\u001b[39m(x)\n\u001b[1;32m      5\u001b[0m my_function()  \u001b[38;5;66;03m# Output: 10\u001b[39;00m\n\u001b[0;32m----> 6\u001b[0m \u001b[38;5;28mprint\u001b[39m(\u001b[43mx\u001b[49m)\n",
      "\u001b[0;31mNameError\u001b[0m: name 'x' is not defined"
     ]
    }
   ],
   "source": [
    "def my_function():\n",
    "    x = 7  # Variable with local scope\n",
    "    print(x)\n",
    "\n",
    "my_function()  # Output: 10\n",
    "print(x)  # Raises an error, as x is not defined in the global scope"
   ]
  },
  {
   "cell_type": "markdown",
   "id": "e5458913-ffa7-4a14-8fcf-c94d69410336",
   "metadata": {},
   "source": [
    "Global Scope: The global scope refers to the outermost level of a program, outside of any functions. Variables defined outside of functions, at the global level, have global scope. They can be accessed and modified from any part of the program, including inside functions."
   ]
  },
  {
   "cell_type": "code",
   "execution_count": 13,
   "id": "a4812444-0cc5-49ec-b44b-c2b1a7823a2e",
   "metadata": {},
   "outputs": [
    {
     "name": "stdout",
     "output_type": "stream",
     "text": [
      "7\n"
     ]
    }
   ],
   "source": [
    "a = 7  # Variable with global scope\n",
    "\n",
    "def my_function():\n",
    "    print(a)\n",
    "\n",
    "my_function()  # Output: 10"
   ]
  },
  {
   "cell_type": "markdown",
   "id": "c9645a1e-f6bc-4de4-9292-26440982a813",
   "metadata": {},
   "source": [
    "6. How can you use the \"return\" statement in a Python function to return multiple values?\n",
    "\n",
    "ANS: Return statement is typically used to exit a function and optionally return a single value. However, you can use the return statement to return multiple values by grouping them together in a data structure such as a tuple, list, or dictionary"
   ]
  },
  {
   "cell_type": "code",
   "execution_count": 1,
   "id": "4793ba6d-e98d-496f-9362-55014554c23d",
   "metadata": {},
   "outputs": [
    {
     "name": "stdout",
     "output_type": "stream",
     "text": [
      "(10, 'Hello', [1, 2, 3])\n"
     ]
    }
   ],
   "source": [
    "#Returning values as tuple\n",
    "def return_multiple_values():\n",
    "    value1 = 10\n",
    "    value2 = \"Hello\"\n",
    "    value3 = [1, 2, 3]\n",
    "    return value1, value2, value3\n",
    "\n",
    "result = return_multiple_values()\n",
    "print(result)  # (10, 'Hello', [1, 2, 3])"
   ]
  },
  {
   "cell_type": "code",
   "execution_count": 2,
   "id": "345c4a9f-1454-4aa2-9d07-31f88787f603",
   "metadata": {},
   "outputs": [
    {
     "name": "stdout",
     "output_type": "stream",
     "text": [
      "[10, 'Hello', [1, 2, 3]]\n"
     ]
    }
   ],
   "source": [
    "#Returning values as LIst\n",
    "def return_multiple_values():\n",
    "    value1 = 10\n",
    "    value2 = \"Hello\"\n",
    "    value3 = [1, 2, 3]\n",
    "    return [value1, value2, value3]\n",
    "\n",
    "result = return_multiple_values()\n",
    "print(result)  # [10, 'Hello', [1, 2, 3]]"
   ]
  },
  {
   "cell_type": "code",
   "execution_count": 3,
   "id": "4f5b3aa7-5170-4f8a-be78-da39571a60a9",
   "metadata": {},
   "outputs": [
    {
     "name": "stdout",
     "output_type": "stream",
     "text": [
      "{'value1': 10, 'value2': 'Hello', 'value3': [1, 2, 3]}\n"
     ]
    }
   ],
   "source": [
    "#Returning value as dict\n",
    "def return_multiple_values():\n",
    "    value1 = 10\n",
    "    value2 = \"Hello\"\n",
    "    value3 = [1, 2, 3]\n",
    "    return {\"value1\": value1, \"value2\": value2, \"value3\": value3}\n",
    "\n",
    "result = return_multiple_values()\n",
    "print(result)  # {'value1': 10, 'value2': 'Hello', 'value3': [1, 2, 3]}"
   ]
  },
  {
   "cell_type": "markdown",
   "id": "aa18f798-dad1-46a2-9a58-80bc0c5c4364",
   "metadata": {},
   "source": [
    "7. What is the difference between the \"pass by value\" and \"pass by reference\" concepts when it comes to function arguments in Python?\n",
    "\n",
    "ANS: Pass by Value: In a \"pass by value\" mechanism, a copy of the value of the argument is passed to the function. This means that any modifications made to the parameter within the function do not affect the original variable or object outside the function."
   ]
  },
  {
   "cell_type": "code",
   "execution_count": 4,
   "id": "c200ce7a-c78a-4d6e-8c7e-afb1a42cafa7",
   "metadata": {},
   "outputs": [
    {
     "name": "stdout",
     "output_type": "stream",
     "text": [
      "5\n"
     ]
    }
   ],
   "source": [
    "def increment(num):\n",
    "    num += 1\n",
    "\n",
    "my_num = 5\n",
    "increment(my_num)\n",
    "print(my_num)  # Output: 5 (unchanged)"
   ]
  },
  {
   "cell_type": "markdown",
   "id": "b39ef780-b8ac-4f63-b2dd-28e40c3f1c48",
   "metadata": {},
   "source": [
    "Pass by Reference: In a \"pass by reference\" mechanism, a reference or memory address of the argument is passed to the function. This means that any modifications made to the parameter within the function directly affect the original variable or object outside the function."
   ]
  },
  {
   "cell_type": "code",
   "execution_count": 5,
   "id": "1440b662-0a46-4407-8b47-b12ea67b1069",
   "metadata": {},
   "outputs": [
    {
     "name": "stdout",
     "output_type": "stream",
     "text": [
      "[1, 2, 3, 4]\n"
     ]
    }
   ],
   "source": [
    "def append_item(my_list):\n",
    "    my_list.append(4)\n",
    "\n",
    "my_list = [1, 2, 3]\n",
    "append_item(my_list)\n",
    "print(my_list)  # Output: [1, 2, 3, 4]"
   ]
  },
  {
   "cell_type": "markdown",
   "id": "e3dc5239-5179-454b-8a79-47de79222277",
   "metadata": {},
   "source": [
    "8. Create a function that can intake integer or decimal value and do following operations:\n",
    "a. Logarithmic function (log x)\n",
    "b. Exponential function (exp(x))\n",
    "c. Power function with base 2 (2x)\n",
    "d. Square root\n",
    "\n",
    "ANS: "
   ]
  },
  {
   "cell_type": "code",
   "execution_count": 11,
   "id": "c0c5c1ca-087c-4a6d-8e37-f9aaa7d40202",
   "metadata": {},
   "outputs": [
    {
     "name": "stdout",
     "output_type": "stream",
     "text": [
      "(2.0794415416798357, 2980.9579870417283, 256.0, 2.8284271247461903)\n"
     ]
    }
   ],
   "source": [
    "#Ans 8\n",
    "import math\n",
    "def perform_operations(value):\n",
    "    logarithm = math.log(value)\n",
    "    exponential = math.exp(value)\n",
    "    power_of_2 = math.pow(2, value)\n",
    "    square_root = math.sqrt(value)\n",
    "    \n",
    "    return logarithm, exponential, power_of_2, square_root\n",
    "\n",
    "result = perform_operations(8)\n",
    "print(result)"
   ]
  },
  {
   "cell_type": "markdown",
   "id": "5ae1193c-faf5-4e52-b0b7-3d18f99dea2d",
   "metadata": {},
   "source": [
    "9. Create a function that takes a full name as an argument and returns first name and last name.\n",
    "\n",
    "ANS: "
   ]
  },
  {
   "cell_type": "code",
   "execution_count": 10,
   "id": "847cf468-9daf-427e-82ee-20c915f9e44f",
   "metadata": {},
   "outputs": [
    {
     "name": "stdout",
     "output_type": "stream",
     "text": [
      "('ArafathAhmed', 'Syed')\n"
     ]
    }
   ],
   "source": [
    "#Ans 9\n",
    "def get_first_and_last_name(full_name):\n",
    "    names = full_name.split()\n",
    "    first_name = names[0]\n",
    "    last_name = names[-1]\n",
    "    \n",
    "    return first_name, last_name\n",
    "\n",
    "name = \"ArafathAhmed Syed\"\n",
    "result = get_first_and_last_name(name)\n",
    "print(result)"
   ]
  },
  {
   "cell_type": "code",
   "execution_count": null,
   "id": "06a61382-46d4-4e04-93c8-b37daf7fb39c",
   "metadata": {},
   "outputs": [],
   "source": []
  }
 ],
 "metadata": {
  "kernelspec": {
   "display_name": "Python 3 (ipykernel)",
   "language": "python",
   "name": "python3"
  },
  "language_info": {
   "codemirror_mode": {
    "name": "ipython",
    "version": 3
   },
   "file_extension": ".py",
   "mimetype": "text/x-python",
   "name": "python",
   "nbconvert_exporter": "python",
   "pygments_lexer": "ipython3",
   "version": "3.10.6"
  }
 },
 "nbformat": 4,
 "nbformat_minor": 5
}
