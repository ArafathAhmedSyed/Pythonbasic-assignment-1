{
 "cells": [
  {
   "cell_type": "raw",
   "id": "f24428ca-3601-4f7d-944d-301e5cb00f48",
   "metadata": {},
   "source": [
    "Assignment 4"
   ]
  },
  {
   "cell_type": "markdown",
   "id": "9ff89cec-81d1-4813-b28d-0c8404d0d01c",
   "metadata": {},
   "source": [
    "1.What exactly is []?\n",
    "Ans: The empty list represented by [] is a list that contains no items. This is similar to '' which represents an empty string"
   ]
  },
  {
   "cell_type": "markdown",
   "id": "c70eea14-a91a-4074-be0f-aabcb50a577b",
   "metadata": {},
   "source": [
    "2.In a list of values stored in a variable called spam, how would you assign the value 'hello' as the third value? (Assume [2, 4, 6, 8, 10] are in spam.)\n",
    "Ans: spam[2]='hello' (Note: Lists follows zero based indexing)"
   ]
  },
  {
   "cell_type": "code",
   "execution_count": 1,
   "id": "0d78ef86-f6aa-459f-a9ed-90ac7d9840e2",
   "metadata": {},
   "outputs": [
    {
     "name": "stdout",
     "output_type": "stream",
     "text": [
      "[2, 4, 6, 8, 10]\n",
      "[2, 4, 'hello', 8, 10]\n"
     ]
    }
   ],
   "source": [
    "# Example\n",
    "spam=[2,4,6,8,10]\n",
    "print(spam)\n",
    "spam[2]='hello' #List uses zero based indexing\n",
    "print(spam)"
   ]
  },
  {
   "cell_type": "markdown",
   "id": "29e567a4-167d-4ec6-b6e1-b9bd0c2271fc",
   "metadata": {},
   "source": [
    "Let's pretend the spam includes the list ['a','b','c',d'] for the next three queries."
   ]
  },
  {
   "cell_type": "markdown",
   "id": "03989f10-a533-49f0-baf1-a4a9899d19a4",
   "metadata": {},
   "source": [
    "3. What is the value of spam[int(int('3'*2)//11)] ?\n",
    "Ans: 'd' (Note that '3' * 2 is the string '33', which is passed to int() before being divided by 11. This eventually evaluates to 3, spam[3] is equal to d.)"
   ]
  },
  {
   "cell_type": "code",
   "execution_count": 2,
   "id": "17929898-c49d-45a5-a45e-f8630445cb9e",
   "metadata": {},
   "outputs": [
    {
     "name": "stdout",
     "output_type": "stream",
     "text": [
      "spam[int(int('3'*2)//11)] -> d\n"
     ]
    }
   ],
   "source": [
    "spam=['a','b','c','d']\n",
    "print(\"spam[int(int('3'*2)//11)] ->\",spam[int(int('3'*2)//11)])"
   ]
  },
  {
   "cell_type": "markdown",
   "id": "0593c4af-b4fc-4268-a5f7-eeb927bd006e",
   "metadata": {},
   "source": [
    "4. What is the value of spam[-1]?\n",
    "Ans: 'd' (Lists support Negative indexing, Hence spam[-1] returs 'd')"
   ]
  },
  {
   "cell_type": "code",
   "execution_count": 3,
   "id": "78a06bfa-a2b7-499b-9061-fdeb9fd36ed7",
   "metadata": {},
   "outputs": [
    {
     "name": "stdout",
     "output_type": "stream",
     "text": [
      "spam[-1] ->  d\n"
     ]
    }
   ],
   "source": [
    "spam=['a','b','c','d']\n",
    "print('spam[-1] -> ',spam[-1])"
   ]
  },
  {
   "cell_type": "markdown",
   "id": "bf76b30a-4f0b-4d05-a582-2132574d2d51",
   "metadata": {},
   "source": [
    "5. What is the value of spam[:2]?\n",
    "Ans: spam[:2] returns all elements in the list spam from 0 to 2 excluding 2"
   ]
  },
  {
   "cell_type": "code",
   "execution_count": 4,
   "id": "9b63b1ca-3e3e-44c6-b030-d627b24c1db9",
   "metadata": {},
   "outputs": [
    {
     "name": "stdout",
     "output_type": "stream",
     "text": [
      "['a', 'b', 'c', 'd']\n",
      "['a', 'b']\n"
     ]
    }
   ],
   "source": [
    "print(spam)\n",
    "print(spam[:2])"
   ]
  },
  {
   "cell_type": "markdown",
   "id": "7e5440a5-b24e-4dfb-a8b9-0df484bff97b",
   "metadata": {},
   "source": [
    "Let's pretend bacon has the list [3.14,'cat',11,'cat',True] for the next three question"
   ]
  },
  {
   "cell_type": "markdown",
   "id": "94da2c00-0ecf-4ad4-ac1d-77f7f4afd52d",
   "metadata": {},
   "source": [
    "6. What is the value of bacon.index('cat')?\n",
    "Ans: The value of bacon.index('cat') is 1 (Note: index method returns the index of first occuerence of 'cat')"
   ]
  },
  {
   "cell_type": "code",
   "execution_count": 5,
   "id": "872dffd5-ae18-4b72-b039-f090cad12386",
   "metadata": {},
   "outputs": [
    {
     "name": "stdout",
     "output_type": "stream",
     "text": [
      "bacon.index('cat') -> 1\n"
     ]
    }
   ],
   "source": [
    "bacon=[3.14,'cat',11,'cat',True]\n",
    "print(\"bacon.index('cat') ->\",bacon.index('cat'))"
   ]
  },
  {
   "cell_type": "markdown",
   "id": "20dec142-79a1-4f7d-be99-c03b6ada320d",
   "metadata": {},
   "source": [
    "7. How does bacon.append(99) change the look of the list value in bacon?\n",
    "Ans: It will add 99 in the end of the bacon list, The append method adds new elements to the end of the list."
   ]
  },
  {
   "cell_type": "code",
   "execution_count": 6,
   "id": "8fa1a26d-30e6-441e-aced-25fa0432ec6e",
   "metadata": {},
   "outputs": [
    {
     "name": "stdout",
     "output_type": "stream",
     "text": [
      "[3.14, 'cat', 11, 'cat', True]\n",
      "[3.14, 'cat', 11, 'cat', True, 99]\n"
     ]
    }
   ],
   "source": [
    "# Example\n",
    "print(bacon)\n",
    "bacon.append(99) # appends 99 to the end of the list\n",
    "print(bacon)"
   ]
  },
  {
   "cell_type": "markdown",
   "id": "7b719ebd-1420-4275-9966-da9e4ddd94c1",
   "metadata": {},
   "source": [
    "8. How does bacon.remove('cat') change the look of the list in bacon?\n",
    "Ans: The remove method removes the first occurence of the element in the list"
   ]
  },
  {
   "cell_type": "code",
   "execution_count": 7,
   "id": "d9ec06f3-1543-4e43-bdc4-d4b2c0ed42b4",
   "metadata": {},
   "outputs": [
    {
     "name": "stdout",
     "output_type": "stream",
     "text": [
      "[3.14, 'cat', 11, 'cat', True, 99]\n",
      "[3.14, 11, 'cat', True, 99]\n"
     ]
    }
   ],
   "source": [
    "print(bacon)\n",
    "bacon.remove('cat')\n",
    "print(bacon)"
   ]
  },
  {
   "cell_type": "markdown",
   "id": "fb13fdc4-b059-4491-8c88-0452cb75c4cc",
   "metadata": {},
   "source": [
    "9. what are the list concatenation and list replication operations?\n",
    "Ans: The operator for list concatenation is +, while the operator for replication is *. (This is the same as for strings.)"
   ]
  },
  {
   "cell_type": "code",
   "execution_count": 11,
   "id": "75f55549-acca-4133-b7a2-2ccb9f01bb88",
   "metadata": {},
   "outputs": [
    {
     "name": "stdout",
     "output_type": "stream",
     "text": [
      "['ML', 'DS', 'AI', 'EE', 'NLP', 'RUN', 'CAT', 'NEC']\n",
      "['RUN', 'CAT', 'NEC', 'RUN', 'CAT', 'NEC']\n"
     ]
    }
   ],
   "source": [
    "# Example\n",
    "list_1 = ['ML','DS','AI','EE','NLP']\n",
    "list_2 = ['RUN','CAT','NEC']\n",
    "print(list_1 + list_2) # List Concatenation\n",
    "print(list_2*2) # List Replication"
   ]
  },
  {
   "cell_type": "markdown",
   "id": "ff6ff8e1-7e3a-4696-ac02-e04d4b89938d",
   "metadata": {},
   "source": [
    "10. what is the difference between the list method append() and insert()?\n",
    "Ans: append() will add values only to the end of a list, insert() can add them anywhere in the list."
   ]
  },
  {
   "cell_type": "code",
   "execution_count": 12,
   "id": "0352c153-2b25-4fac-9901-adc8648467fe",
   "metadata": {},
   "outputs": [
    {
     "name": "stdout",
     "output_type": "stream",
     "text": [
      "['a', 'b', 'c', 'd', 6]\n",
      "['a', 'b', 'position', 'c', 'd', 6]\n"
     ]
    }
   ],
   "source": [
    "#Examples\n",
    "list = ['a','b','c','d']\n",
    "list.append(6)\n",
    "print(list)\n",
    "list.insert(2,'position')\n",
    "print(list)"
   ]
  },
  {
   "cell_type": "markdown",
   "id": "3c27095f-a687-4596-9523-fae9254be835",
   "metadata": {},
   "source": [
    "11. What are the two methods for removing items from a list?\n",
    "Ans: The del statement and the remove() method are two ways to remove values from a list"
   ]
  },
  {
   "cell_type": "markdown",
   "id": "84bd3f78-3de0-43b2-8d76-5c014ae2bd1f",
   "metadata": {},
   "source": [
    "12. Describe how list values and string values are identical.\n",
    "Ans: Both lists and strings can be passed to len() function, have indexes and slices, be used in for loops, be concatenated or replicated, and be used with the in and not in operators."
   ]
  },
  {
   "cell_type": "markdown",
   "id": "9eca31e6-5540-4c97-9305-275572ae078d",
   "metadata": {},
   "source": [
    "13. What's the difference between tuples and lists?\n",
    "Ans: Lists are Mutable, Indexable and Slicing operation can be performed. they can have values added, removed, or changed. Tuples are Immutable but Indexable and Slicing operation can be performed. the tuple values cannot be changed at all. Also, tuples are represented using parentheses, (), while lists use the square brackets, []."
   ]
  },
  {
   "cell_type": "markdown",
   "id": "6111ecb1-ef95-4a36-9e92-ac5822e125a5",
   "metadata": {},
   "source": [
    "14. How do you type a tuple value that only contains the integer 42?\n",
    "Ans:(42,) (The trailing comma is mandatory. otherwise its considered as a int by python Interpreter)"
   ]
  },
  {
   "cell_type": "code",
   "execution_count": 10,
   "id": "84f7899a-d86b-41e5-8f63-251274fb9319",
   "metadata": {},
   "outputs": [
    {
     "name": "stdout",
     "output_type": "stream",
     "text": [
      "<class 'int'>\n",
      "<class 'tuple'>\n"
     ]
    }
   ],
   "source": [
    "tup1=(42)\n",
    "tup2=(42,)\n",
    "print(type(tup1))\n",
    "print(type(tup2))"
   ]
  },
  {
   "cell_type": "markdown",
   "id": "ce12f85c-0307-4d2a-a151-6d54079ba28d",
   "metadata": {},
   "source": [
    "15. How do you get a list value's tuple form? How do you get a tuple value's list form?\n",
    "Ans: The tuple() and list() functions, respectively are used to convert a list to tuple and vice versa"
   ]
  },
  {
   "cell_type": "markdown",
   "id": "5e4338d7-a563-48cd-a2c6-3bf3b7f6230c",
   "metadata": {},
   "source": [
    "16. Variables that \"contain\" list values are not necessarily lists themselves. Instead, what do they contain?\n",
    "Ans: They contain references to list values."
   ]
  },
  {
   "cell_type": "markdown",
   "id": "ea07580d-dce7-4d81-8dd2-cdbf5d249733",
   "metadata": {},
   "source": [
    "17. How do you distinguish between copy.copy() and copy.deepcopy()?\n",
    "Ans: The copy.copy() function will do a shallow copy of a list, while the copy.deepcopy() function will do a deep copy of a list. That is, only copy.deepcopy() will duplicate any lists inside the list."
   ]
  }
 ],
 "metadata": {
  "kernelspec": {
   "display_name": "Python 3 (ipykernel)",
   "language": "python",
   "name": "python3"
  },
  "language_info": {
   "codemirror_mode": {
    "name": "ipython",
    "version": 3
   },
   "file_extension": ".py",
   "mimetype": "text/x-python",
   "name": "python",
   "nbconvert_exporter": "python",
   "pygments_lexer": "ipython3",
   "version": "3.10.6"
  }
 },
 "nbformat": 4,
 "nbformat_minor": 5
}
