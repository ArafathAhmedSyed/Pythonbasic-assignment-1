{
 "cells": [
  {
   "cell_type": "markdown",
   "id": "17dcd171-ed73-4494-897f-8d6570f4ccca",
   "metadata": {},
   "source": [
    "20 May\n",
    "Python Basic - 1"
   ]
  },
  {
   "cell_type": "markdown",
   "id": "508b191a-630d-4e69-81d5-f04461a7b242",
   "metadata": {},
   "source": [
    "Q.1.What are keywords in python? Using the keyword library, print all the python keywords.\n",
    "\n",
    "ANS: Keywords in Python are reserved words that cannot be used as ordinary identifiers. They are used to define syntax and structure of the python language. By using the keyword library priniting all the keywords below"
   ]
  },
  {
   "cell_type": "code",
   "execution_count": 2,
   "id": "d16ec4ec-901c-4f4c-9606-7e47b12070e4",
   "metadata": {},
   "outputs": [
    {
     "name": "stdout",
     "output_type": "stream",
     "text": [
      "['False', 'None', 'True', 'and', 'as', 'assert', 'async', 'await', 'break', 'class', 'continue', 'def', 'del', 'elif', 'else', 'except', 'finally', 'for', 'from', 'global', 'if', 'import', 'in', 'is', 'lambda', 'nonlocal', 'not', 'or', 'pass', 'raise', 'return', 'try', 'while', 'with', 'yield']\n"
     ]
    }
   ],
   "source": [
    "import keyword #importing keyword library\n",
    "print(keyword.kwlist) #printing all the python keywords"
   ]
  },
  {
   "cell_type": "markdown",
   "id": "8541a1f8-9890-4176-91ce-72831fabbe22",
   "metadata": {},
   "source": [
    "Q.2. What are the rules to create variables in python?\n",
    "\n",
    "ANS: Following are the rules to create a variables:\n",
    "        1. Varibales can be a combination of letters in lowercase (a to z) or uppercase (A to Z) or digits (0            to 9) or an underscore (_). \n",
    "        2. They must start with a letter or the underscore character, but not with a digit.\n",
    "        3. Variables in Python are case-sensitive. For example, myVariable and myvariable are two different              varibles in Python.\n",
    "        4. Varibles cannot have special characters such as !, @, #, $, %, etc. Python keywords cannot be used            as varibles."
   ]
  },
  {
   "cell_type": "markdown",
   "id": "53eeb3f9-a2fa-4e52-aa7e-424fd958220a",
   "metadata": {},
   "source": [
    "Q.3. What are the standards and conventions followed for the nomenclature of variables in python to improve code readability and maintainability?\n",
    "\n",
    "ANS: Use descriptive names: Choose variable names that are meaningful and describe their purpose or the data      they store.This helps in understanding the code's intent and makes it easier for others (and your future      self) to read and maintain the code.\n",
    "\n",
    "Use lowercase letters: Variable names in Python are typically written in lowercase letters. If a variable name consists of multiple words, separate them with underscores. For example: my_variable, total_count, first_name.\n",
    "    \n",
    "Avoid using single characters: While it's technically allowed to use single-letter variable names, it's generally better to use more descriptive names that convey the purpose of the variable.(in lops we use it for more clarity of code flow)\n",
    "\n",
    "Consistent with naming style: Stick to a consistent naming style throughout your codebase.\n",
    "\n",
    "Avoid using reserved keywords:NOt use reserved words as varible names.\n",
    "\n",
    "Use meaningful abbreviations: If you need to use abbreviations, ensure they are widely understood and make the code more readable."
   ]
  },
  {
   "cell_type": "markdown",
   "id": "3e3b103c-2d97-46bb-8d19-f0c9b5932a70",
   "metadata": {},
   "source": [
    "Q.4. What will happen if a keyword is used as a variable name?\n",
    "\n",
    "ANS: If a keyword is used as a variable name in Python, it will result in a syntax error. Keywords are reserved words in the Python language, and they have special meanings and functionalities associated with them. They cannot be used as identifiers, including variable names.we should not use all these kewords as per your choice in python .They have a dedicated function reserved in python"
   ]
  },
  {
   "cell_type": "code",
   "execution_count": 4,
   "id": "de206603-0793-417d-9ebe-7995e6d7dae7",
   "metadata": {},
   "outputs": [
    {
     "ename": "SyntaxError",
     "evalue": "cannot assign to True (3728788155.py, line 1)",
     "output_type": "error",
     "traceback": [
      "\u001b[0;36m  Cell \u001b[0;32mIn [4], line 1\u001b[0;36m\u001b[0m\n\u001b[0;31m    True=10#reserve keword is used as varaible name\u001b[0m\n\u001b[0m    ^\u001b[0m\n\u001b[0;31mSyntaxError\u001b[0m\u001b[0;31m:\u001b[0m cannot assign to True\n"
     ]
    }
   ],
   "source": [
    "True=10#reserve keword is used as varaible name"
   ]
  },
  {
   "cell_type": "markdown",
   "id": "a649c928-76ba-46a7-819e-0e308f2c2244",
   "metadata": {},
   "source": [
    "Q.5. For what purpose def keyword is used?\n",
    "\n",
    "ANS: def keyword is used to define a function. It is an essential keyword for function declaration and is used to create user-defined functions that perform specific tasks."
   ]
  },
  {
   "cell_type": "code",
   "execution_count": 6,
   "id": "16b68231-a591-45b5-acf0-c09dc6220862",
   "metadata": {},
   "outputs": [
    {
     "name": "stdout",
     "output_type": "stream",
     "text": [
      "Hello arafath\n"
     ]
    }
   ],
   "source": [
    "def greeting(name):\n",
    "    message = (\"Hello\" +' '+name)\n",
    "    return message\n",
    "print(greeting('arafath'))"
   ]
  },
  {
   "cell_type": "markdown",
   "id": "f53e812d-a971-476d-b1de-6de49d826bd7",
   "metadata": {},
   "source": [
    "Q.6. What is the operation of this special character ‘\\’?\n",
    "\n",
    "ANS: The special character '\\' in Python is called the backslash. It has several uses and serves as an escape character, indicating that the character following it has a special meaning.\n",
    "\n",
    "Use: '\\n' represents a newline character. '\\t' represents a tab character. '' represents a literal backslash character."
   ]
  },
  {
   "cell_type": "markdown",
   "id": "fc25039b-f273-4e68-9dbb-0ab909a996d4",
   "metadata": {},
   "source": [
    "Q.7. Give an example of the following conditions:\n",
    "(i) Homogeneous list\n",
    "(ii) Heterogeneous set\n",
    "(iii) Homogeneous tuple\n",
    "\n",
    "ANS: Providing the examples below"
   ]
  },
  {
   "cell_type": "code",
   "execution_count": 12,
   "id": "c3643c5c-db7d-46a2-acd0-6afd149d3ba6",
   "metadata": {},
   "outputs": [
    {
     "name": "stdout",
     "output_type": "stream",
     "text": [
      "['apple', 'banana', 'mango']\n",
      "<class 'list'>\n"
     ]
    }
   ],
   "source": [
    "#(i) Homogeneous list A list can contain elements of same  types: integers, floats, strings, and even other lists or tuples.\n",
    "fruits = [\"apple\", \"banana\", \"mango\"]\n",
    "print(fruits)\n",
    "print(type(fruits))"
   ]
  },
  {
   "cell_type": "code",
   "execution_count": 11,
   "id": "c603f680-4a6a-42ee-84eb-94df5c08e4cd",
   "metadata": {},
   "outputs": [
    {
     "name": "stdout",
     "output_type": "stream",
     "text": [
      "{'arafath', 'apple', 22.5, 23}\n",
      "<class 'set'>\n"
     ]
    }
   ],
   "source": [
    "#(ii) Heterogeneous set can also contain elements of different types: integers, floats, strings, and even other tuples or lists.\n",
    "set = {\"apple\", 23, 22.5,\"arafath\"}\n",
    "print(set)\n",
    "print(type(set))"
   ]
  },
  {
   "cell_type": "code",
   "execution_count": 13,
   "id": "be513fb0-bc06-43e5-8770-8971c6dda4da",
   "metadata": {},
   "outputs": [
    {
     "name": "stdout",
     "output_type": "stream",
     "text": [
      "(1, 2, 3, 4, 5)\n",
      "<class 'tuple'>\n"
     ]
    }
   ],
   "source": [
    "#(iii) Homogeneous tuple\n",
    "\n",
    "numbers = (1, 2, 3, 4, 5)\n",
    "print(numbers)\n",
    "print(type(numbers))"
   ]
  },
  {
   "cell_type": "markdown",
   "id": "3d411fc6-3724-4a93-adf9-572aaaa1ee43",
   "metadata": {},
   "source": [
    "Q.8. Explain the mutable and immutable data types with proper explanation & examples.\n",
    "\n",
    "ANS: Mutable Data Type: A mutable data type is one where the value or contents of the object can be modified after it is created. This means that we can change individual elements, add or remove elements, or modify the state of the object without creating a new object. In Python, some examples of mutable data types are lists, dictionaries, sets.\n",
    "     \n",
    "Immutable Data Type: An immutable data type is one where the value or contents of the object cannot be modified after it is created. This means that once the object is assigned a value, it cannot be changed. In Python, some examples of immutable data types are numbers (integers, floats, etc.), strings, tuples.\n"
   ]
  },
  {
   "cell_type": "code",
   "execution_count": 14,
   "id": "074ebcae-96c7-4e2b-92bd-9929fd464421",
   "metadata": {},
   "outputs": [
    {
     "name": "stdout",
     "output_type": "stream",
     "text": [
      "{1, 2, 3, 4}\n",
      "{1, 2, 3, 4, 5}\n",
      "{1, 3, 4, 5}\n"
     ]
    }
   ],
   "source": [
    "#Mutable\n",
    "#SET\n",
    "my_set = {1, 2, 3, 4}  # Set\n",
    "print(my_set)  # Output: {1, 2, 3, 4}\n",
    "\n",
    "my_set.add(5)  # Adding an element to the set\n",
    "print(my_set)  # Output: {1, 2, 3, 4, 5}\n",
    "\n",
    "my_set.remove(2)  # Removing an element from the set\n",
    "print(my_set)  # Output: {1, 3, 4, 5}"
   ]
  },
  {
   "cell_type": "code",
   "execution_count": 16,
   "id": "bb99681d-a6dd-4f18-a4f7-2693bbd21dc8",
   "metadata": {},
   "outputs": [
    {
     "name": "stdout",
     "output_type": "stream",
     "text": [
      "(1, 2, 3, 4)\n"
     ]
    },
    {
     "ename": "TypeError",
     "evalue": "'tuple' object does not support item assignment",
     "output_type": "error",
     "traceback": [
      "\u001b[0;31m---------------------------------------------------------------------------\u001b[0m",
      "\u001b[0;31mTypeError\u001b[0m                                 Traceback (most recent call last)",
      "Cell \u001b[0;32mIn [16], line 7\u001b[0m\n\u001b[1;32m      4\u001b[0m my_tuple \u001b[38;5;241m=\u001b[39m (\u001b[38;5;241m1\u001b[39m, \u001b[38;5;241m2\u001b[39m, \u001b[38;5;241m3\u001b[39m, \u001b[38;5;241m4\u001b[39m)  \u001b[38;5;66;03m# Tuple\u001b[39;00m\n\u001b[1;32m      5\u001b[0m \u001b[38;5;28mprint\u001b[39m(my_tuple)  \u001b[38;5;66;03m# Output: (1, 2, 3, 4)\u001b[39;00m\n\u001b[0;32m----> 7\u001b[0m \u001b[43mmy_tuple\u001b[49m\u001b[43m[\u001b[49m\u001b[38;5;241;43m2\u001b[39;49m\u001b[43m]\u001b[49m \u001b[38;5;241m=\u001b[39m \u001b[38;5;241m7\u001b[39m\n",
      "\u001b[0;31mTypeError\u001b[0m: 'tuple' object does not support item assignment"
     ]
    }
   ],
   "source": [
    "#Immutable\n",
    "#TUPLE\n",
    "\n",
    "my_tuple = (1, 2, 3, 4)  # Tuple\n",
    "print(my_tuple)  # Output: (1, 2, 3, 4)\n",
    "\n",
    "my_tuple[2] = 7  # Attempting to modify a tuple (results in an error)"
   ]
  },
  {
   "cell_type": "code",
   "execution_count": 17,
   "id": "5d84f35f-5620-4b3e-9009-2cc5c98a8aea",
   "metadata": {},
   "outputs": [
    {
     "name": "stdout",
     "output_type": "stream",
     "text": [
      "Hello\n"
     ]
    },
    {
     "ename": "TypeError",
     "evalue": "'str' object does not support item assignment",
     "output_type": "error",
     "traceback": [
      "\u001b[0;31m---------------------------------------------------------------------------\u001b[0m",
      "\u001b[0;31mTypeError\u001b[0m                                 Traceback (most recent call last)",
      "Cell \u001b[0;32mIn [17], line 5\u001b[0m\n\u001b[1;32m      2\u001b[0m my_string \u001b[38;5;241m=\u001b[39m \u001b[38;5;124m\"\u001b[39m\u001b[38;5;124mHello\u001b[39m\u001b[38;5;124m\"\u001b[39m  \u001b[38;5;66;03m# String\u001b[39;00m\n\u001b[1;32m      3\u001b[0m \u001b[38;5;28mprint\u001b[39m(my_string)  \u001b[38;5;66;03m# Output: Hello\u001b[39;00m\n\u001b[0;32m----> 5\u001b[0m \u001b[43mmy_string\u001b[49m\u001b[43m[\u001b[49m\u001b[38;5;241;43m1\u001b[39;49m\u001b[43m]\u001b[49m \u001b[38;5;241m=\u001b[39m \u001b[38;5;124m'\u001b[39m\u001b[38;5;124ma\u001b[39m\u001b[38;5;124m'\u001b[39m\n",
      "\u001b[0;31mTypeError\u001b[0m: 'str' object does not support item assignment"
     ]
    }
   ],
   "source": [
    "#STRING\n",
    "my_string = \"Hello\"  # String\n",
    "print(my_string)  # Output: Hello\n",
    "\n",
    "my_string[1] = 'a'  # Attempting to modify a string (results in an error)"
   ]
  },
  {
   "cell_type": "raw",
   "id": "3f65a25c-7b41-4601-a7a2-41d9bd930fbf",
   "metadata": {},
   "source": [
    "Q.9. Write a code to create the given structure using only for loop.\n",
    "     *\n",
    "    ***\n",
    "   *****\n",
    "  *******\n",
    " *********"
   ]
  },
  {
   "cell_type": "code",
   "execution_count": 20,
   "id": "f36ed85d-02a6-49ad-8123-7ccd76502e64",
   "metadata": {},
   "outputs": [
    {
     "name": "stdout",
     "output_type": "stream",
     "text": [
      "          * \n",
      "        * * * \n",
      "      * * * * * \n",
      "    * * * * * * * \n",
      "  * * * * * * * * * \n"
     ]
    }
   ],
   "source": [
    "#Ans 9)\n",
    "#hill pattern(decreasing spaces , increasings star,increasing star)\n",
    "n=5\n",
    "for i in range(n):\n",
    "    for j in range(i,n):\n",
    "        print(\" \", end=\" \")\n",
    "    for j in range(i+1):\n",
    "        print(\"*\", end=\" \")\n",
    "    for j in range(i):\n",
    "        print(\"*\", end=\" \")\n",
    "    print()"
   ]
  },
  {
   "cell_type": "markdown",
   "id": "e9f7cf92-9b1a-4fce-9832-09ef6435bfcd",
   "metadata": {},
   "source": [
    "Q.10. Write a code to create the given structure using while loop.\n",
    "|||||||||\n",
    " |||||||\n",
    "  |||||\n",
    "   |||\n",
    "    |"
   ]
  },
  {
   "cell_type": "code",
   "execution_count": 21,
   "id": "b56a8c9e-83ed-4621-abf7-03842a864ddd",
   "metadata": {},
   "outputs": [
    {
     "name": "stdout",
     "output_type": "stream",
     "text": [
      "| | | | | | | | | \n",
      "  | | | | | | | \n",
      "    | | | | | \n",
      "      | | | \n",
      "        | \n"
     ]
    }
   ],
   "source": [
    "#Ans 10:\n",
    "#Using while loop\n",
    "\n",
    "#To generate a downhill pattern using a while loop, you can modify the previous code as follows:\n",
    "\n",
    "\n",
    "rows = 5\n",
    "spaces = 0\n",
    "stars = 9\n",
    "\n",
    "while rows > 0:\n",
    "    # Print spaces\n",
    "    for _ in range(spaces):\n",
    "        print(\"  \", end=\"\")\n",
    "    \n",
    "    # Print stars\n",
    "    for _ in range(stars):\n",
    "        print(\"| \", end=\"\")\n",
    "    \n",
    "    print()  # Move to the next line\n",
    "    \n",
    "    spaces += 1\n",
    "    stars -= 2\n",
    "    rows -= 1\n"
   ]
  },
  {
   "cell_type": "code",
   "execution_count": null,
   "id": "97c05de9-8d4a-4879-a936-f2d633d3eeea",
   "metadata": {},
   "outputs": [],
   "source": []
  }
 ],
 "metadata": {
  "kernelspec": {
   "display_name": "Python 3 (ipykernel)",
   "language": "python",
   "name": "python3"
  },
  "language_info": {
   "codemirror_mode": {
    "name": "ipython",
    "version": 3
   },
   "file_extension": ".py",
   "mimetype": "text/x-python",
   "name": "python",
   "nbconvert_exporter": "python",
   "pygments_lexer": "ipython3",
   "version": "3.10.6"
  }
 },
 "nbformat": 4,
 "nbformat_minor": 5
}
