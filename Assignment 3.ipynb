{
 "cells": [
  {
   "cell_type": "raw",
   "id": "96554d2f-e4ce-42ce-850c-9baa7c7e135b",
   "metadata": {},
   "source": [
    "Assignment 3"
   ]
  },
  {
   "cell_type": "markdown",
   "id": "897aa6e4-fbc8-44ec-a7d6-3bb1e65318d0",
   "metadata": {},
   "source": [
    "1. Why are functions advantageous to have in your programs?\n",
    "Ans: Functions reduce the need for duplicate code. This makes programs shorter, easier to read, and easier to update. The main advantage of functions is code Reusability."
   ]
  },
  {
   "cell_type": "markdown",
   "id": "d0b7db85-9017-4bff-8088-e6e762a5bc84",
   "metadata": {},
   "source": [
    "2. When does the code in a function run: when it's specified or when it's called?\n",
    "Ans: The code in a function executes when the function is called, not when the function is specified."
   ]
  },
  {
   "cell_type": "markdown",
   "id": "161a10a2-21dc-4405-9edb-4dafaabc09f9",
   "metadata": {},
   "source": [
    "3. What statement creates a function?\n",
    "Ans: The 'def' statement defines a function\n",
    "Syntax of Function:\n",
    "def function_name(parameters): \"\"\"doc string\"\"\" -----function body----- -----function body----- return value"
   ]
  },
  {
   "cell_type": "markdown",
   "id": "b076c5a6-ad8c-4318-b0e3-ea2bd88741d8",
   "metadata": {},
   "source": [
    "4. What is the difference between a function and a function call?\n",
    "Ans: A function is procedure to achieve a particular result. while function call is using this function to achive that task. Using a function to do a particular task any point in program is called as function call."
   ]
  },
  {
   "cell_type": "markdown",
   "id": "76f4f333-8321-4f15-ad34-206776cc2cc8",
   "metadata": {},
   "source": [
    "5. How many global scopes are there in a Python program? How many local scopes?\n",
    "Ans: There is one global scope, and a local scope is created whenever a function is called."
   ]
  },
  {
   "cell_type": "markdown",
   "id": "86bb81a4-561e-42c7-9157-504ed05b0b81",
   "metadata": {},
   "source": [
    "6. What happens to variables in a local scope when the function call returns?\n",
    "Ans: When a function returns, the local scope is destroyed, and all the variables in it are forgotten."
   ]
  },
  {
   "cell_type": "markdown",
   "id": "4fb4f712-0fd6-4756-a282-b5c7198c3c5c",
   "metadata": {},
   "source": [
    "7. What is the concept of a return value? Is it possible to have a return value in an expression?\n",
    "Ans: A return value is the value that a function call evaluates to. Like any value, a return value can be used as part of an expression."
   ]
  },
  {
   "cell_type": "markdown",
   "id": "b55ba609-3ba9-4bb8-ae3b-9ea6b3ca149d",
   "metadata": {},
   "source": [
    "8. If a function does not have a return statement, what is the return value of a call to that function?\n",
    "Ans: If there is no return statement for a function, its return value is None."
   ]
  },
  {
   "cell_type": "markdown",
   "id": "694b51af-b2bc-4ca4-ac92-2147380a873b",
   "metadata": {},
   "source": [
    "9. How do you make a function variable refer to the global variable?\n",
    "Ans: A global statement will force a variable in a function to refer to the global variable. If you want to refer to a global variable in a function, you can use the global keyword to declare which variables are global."
   ]
  },
  {
   "cell_type": "markdown",
   "id": "c4a74025-add2-49bb-a57e-a7ac0c98f7b6",
   "metadata": {},
   "source": [
    "10. What is the data type of None?\n",
    "Ans: The data type of None is NoneType."
   ]
  },
  {
   "cell_type": "markdown",
   "id": "5a817410-b396-4a56-a0f8-1762ee9d3b53",
   "metadata": {},
   "source": [
    "11. What does the sentence import areallyourpetsnamederic do?\n",
    "Ans: That import statement imports a module named areallyourpetsnamederic."
   ]
  },
  {
   "cell_type": "markdown",
   "id": "436a52dd-aca5-4c6b-b599-cf43a8e08ed0",
   "metadata": {},
   "source": [
    "12. If you had a bacon() feature in a spam module, what would you call it after importing spam?\n",
    "Ans: This function can be called with spam.bacon()."
   ]
  },
  {
   "cell_type": "markdown",
   "id": "8697e855-e22c-4b39-ab24-6e44404027e8",
   "metadata": {},
   "source": [
    "13. What can you do to save a programme from crashing if it encounters an error?\n",
    "Ans: Place the line of code that might cause an error in a try clause and use except block to handle the error."
   ]
  },
  {
   "cell_type": "markdown",
   "id": "d73e37df-95d9-4ebe-bcb1-682a23ea7b4b",
   "metadata": {},
   "source": [
    "14. What is the purpose of the try clause? What is the purpose of the except clause?\n",
    "ANS:The code that could potentially cause an error goes in the try clause. The code that executes if an error happens goes in the except clause."
   ]
  },
  {
   "cell_type": "code",
   "execution_count": null,
   "id": "0e1012c0-d057-4d2d-8e88-6d997ebebf4e",
   "metadata": {},
   "outputs": [],
   "source": []
  }
 ],
 "metadata": {
  "kernelspec": {
   "display_name": "Python 3 (ipykernel)",
   "language": "python",
   "name": "python3"
  },
  "language_info": {
   "codemirror_mode": {
    "name": "ipython",
    "version": 3
   },
   "file_extension": ".py",
   "mimetype": "text/x-python",
   "name": "python",
   "nbconvert_exporter": "python",
   "pygments_lexer": "ipython3",
   "version": "3.10.6"
  }
 },
 "nbformat": 4,
 "nbformat_minor": 5
}
